{
  "nbformat": 4,
  "nbformat_minor": 0,
  "metadata": {
    "colab": {
      "name": "Fish_Classification_Assignment.ipynb",
      "provenance": [],
      "collapsed_sections": [],
      "include_colab_link": true
    },
    "kernelspec": {
      "name": "python3",
      "display_name": "Python 3"
    },
    "language_info": {
      "name": "python"
    },
    "accelerator": "GPU",
    "widgets": {
      "application/vnd.jupyter.widget-state+json": {
        "95e8dd07dd8f46fb9643381406432dbf": {
          "model_module": "@jupyter-widgets/controls",
          "model_name": "HBoxModel",
          "state": {
            "_view_name": "HBoxView",
            "_dom_classes": [],
            "_model_name": "HBoxModel",
            "_view_module": "@jupyter-widgets/controls",
            "_model_module_version": "1.5.0",
            "_view_count": null,
            "_view_module_version": "1.5.0",
            "box_style": "",
            "layout": "IPY_MODEL_48e9e790fd6444779beaa6d5ede1e6d1",
            "_model_module": "@jupyter-widgets/controls",
            "children": [
              "IPY_MODEL_1f7138580c2342daa5f8f70891be12d9",
              "IPY_MODEL_392c7111138344cbbe8308b28f95f861"
            ]
          }
        },
        "48e9e790fd6444779beaa6d5ede1e6d1": {
          "model_module": "@jupyter-widgets/base",
          "model_name": "LayoutModel",
          "state": {
            "_view_name": "LayoutView",
            "grid_template_rows": null,
            "right": null,
            "justify_content": null,
            "_view_module": "@jupyter-widgets/base",
            "overflow": null,
            "_model_module_version": "1.2.0",
            "_view_count": null,
            "flex_flow": null,
            "width": null,
            "min_width": null,
            "border": null,
            "align_items": null,
            "bottom": null,
            "_model_module": "@jupyter-widgets/base",
            "top": null,
            "grid_column": null,
            "overflow_y": null,
            "overflow_x": null,
            "grid_auto_flow": null,
            "grid_area": null,
            "grid_template_columns": null,
            "flex": null,
            "_model_name": "LayoutModel",
            "justify_items": null,
            "grid_row": null,
            "max_height": null,
            "align_content": null,
            "visibility": null,
            "align_self": null,
            "height": null,
            "min_height": null,
            "padding": null,
            "grid_auto_rows": null,
            "grid_gap": null,
            "max_width": null,
            "order": null,
            "_view_module_version": "1.2.0",
            "grid_template_areas": null,
            "object_position": null,
            "object_fit": null,
            "grid_auto_columns": null,
            "margin": null,
            "display": null,
            "left": null
          }
        },
        "1f7138580c2342daa5f8f70891be12d9": {
          "model_module": "@jupyter-widgets/controls",
          "model_name": "FloatProgressModel",
          "state": {
            "_view_name": "ProgressView",
            "style": "IPY_MODEL_dfb4876977a24410bfdbb2a1b65ddad4",
            "_dom_classes": [],
            "description": "100%",
            "_model_name": "FloatProgressModel",
            "bar_style": "success",
            "max": 244418560,
            "_view_module": "@jupyter-widgets/controls",
            "_model_module_version": "1.5.0",
            "value": 244418560,
            "_view_count": null,
            "_view_module_version": "1.5.0",
            "orientation": "horizontal",
            "min": 0,
            "description_tooltip": null,
            "_model_module": "@jupyter-widgets/controls",
            "layout": "IPY_MODEL_e5905d36e7674c56bf9684a5850aa316"
          }
        },
        "392c7111138344cbbe8308b28f95f861": {
          "model_module": "@jupyter-widgets/controls",
          "model_name": "HTMLModel",
          "state": {
            "_view_name": "HTMLView",
            "style": "IPY_MODEL_610a1438a8834124a112481f5bb0157e",
            "_dom_classes": [],
            "description": "",
            "_model_name": "HTMLModel",
            "placeholder": "​",
            "_view_module": "@jupyter-widgets/controls",
            "_model_module_version": "1.5.0",
            "value": " 233M/233M [00:04&lt;00:00, 58.5MB/s]",
            "_view_count": null,
            "_view_module_version": "1.5.0",
            "description_tooltip": null,
            "_model_module": "@jupyter-widgets/controls",
            "layout": "IPY_MODEL_5be1ade5d5c44189ad4f80c30f07e523"
          }
        },
        "dfb4876977a24410bfdbb2a1b65ddad4": {
          "model_module": "@jupyter-widgets/controls",
          "model_name": "ProgressStyleModel",
          "state": {
            "_view_name": "StyleView",
            "_model_name": "ProgressStyleModel",
            "description_width": "initial",
            "_view_module": "@jupyter-widgets/base",
            "_model_module_version": "1.5.0",
            "_view_count": null,
            "_view_module_version": "1.2.0",
            "bar_color": null,
            "_model_module": "@jupyter-widgets/controls"
          }
        },
        "e5905d36e7674c56bf9684a5850aa316": {
          "model_module": "@jupyter-widgets/base",
          "model_name": "LayoutModel",
          "state": {
            "_view_name": "LayoutView",
            "grid_template_rows": null,
            "right": null,
            "justify_content": null,
            "_view_module": "@jupyter-widgets/base",
            "overflow": null,
            "_model_module_version": "1.2.0",
            "_view_count": null,
            "flex_flow": null,
            "width": null,
            "min_width": null,
            "border": null,
            "align_items": null,
            "bottom": null,
            "_model_module": "@jupyter-widgets/base",
            "top": null,
            "grid_column": null,
            "overflow_y": null,
            "overflow_x": null,
            "grid_auto_flow": null,
            "grid_area": null,
            "grid_template_columns": null,
            "flex": null,
            "_model_name": "LayoutModel",
            "justify_items": null,
            "grid_row": null,
            "max_height": null,
            "align_content": null,
            "visibility": null,
            "align_self": null,
            "height": null,
            "min_height": null,
            "padding": null,
            "grid_auto_rows": null,
            "grid_gap": null,
            "max_width": null,
            "order": null,
            "_view_module_version": "1.2.0",
            "grid_template_areas": null,
            "object_position": null,
            "object_fit": null,
            "grid_auto_columns": null,
            "margin": null,
            "display": null,
            "left": null
          }
        },
        "610a1438a8834124a112481f5bb0157e": {
          "model_module": "@jupyter-widgets/controls",
          "model_name": "DescriptionStyleModel",
          "state": {
            "_view_name": "StyleView",
            "_model_name": "DescriptionStyleModel",
            "description_width": "",
            "_view_module": "@jupyter-widgets/base",
            "_model_module_version": "1.5.0",
            "_view_count": null,
            "_view_module_version": "1.2.0",
            "_model_module": "@jupyter-widgets/controls"
          }
        },
        "5be1ade5d5c44189ad4f80c30f07e523": {
          "model_module": "@jupyter-widgets/base",
          "model_name": "LayoutModel",
          "state": {
            "_view_name": "LayoutView",
            "grid_template_rows": null,
            "right": null,
            "justify_content": null,
            "_view_module": "@jupyter-widgets/base",
            "overflow": null,
            "_model_module_version": "1.2.0",
            "_view_count": null,
            "flex_flow": null,
            "width": null,
            "min_width": null,
            "border": null,
            "align_items": null,
            "bottom": null,
            "_model_module": "@jupyter-widgets/base",
            "top": null,
            "grid_column": null,
            "overflow_y": null,
            "overflow_x": null,
            "grid_auto_flow": null,
            "grid_area": null,
            "grid_template_columns": null,
            "flex": null,
            "_model_name": "LayoutModel",
            "justify_items": null,
            "grid_row": null,
            "max_height": null,
            "align_content": null,
            "visibility": null,
            "align_self": null,
            "height": null,
            "min_height": null,
            "padding": null,
            "grid_auto_rows": null,
            "grid_gap": null,
            "max_width": null,
            "order": null,
            "_view_module_version": "1.2.0",
            "grid_template_areas": null,
            "object_position": null,
            "object_fit": null,
            "grid_auto_columns": null,
            "margin": null,
            "display": null,
            "left": null
          }
        }
      }
    }
  },
  "cells": [
    {
      "cell_type": "markdown",
      "metadata": {
        "id": "view-in-github",
        "colab_type": "text"
      },
      "source": [
        "<a href=\"https://colab.research.google.com/github/HanaHusseinn/HanaHusseinn/blob/main/Fish_Classification_Assignment.ipynb\" target=\"_parent\"><img src=\"https://colab.research.google.com/assets/colab-badge.svg\" alt=\"Open In Colab\"/></a>"
      ]
    },
    {
      "cell_type": "code",
      "metadata": {
        "colab": {
          "base_uri": "https://localhost:8080/"
        },
        "id": "lPpgr27uWYpP",
        "outputId": "10f9f67c-5e67-4f10-c600-4aa5e826161e"
      },
      "source": [
        "#add shortcut to drive to this link: https://drive.google.com/drive/folders/1OBxpRBgCX4yWStB8xI31PVbM7HO3wuHG?usp=sharing\n",
        "from google.colab import drive\n",
        "drive.mount('/content/drive')"
      ],
      "execution_count": null,
      "outputs": [
        {
          "output_type": "stream",
          "text": [
            "Mounted at /content/drive\n"
          ],
          "name": "stdout"
        }
      ]
    },
    {
      "cell_type": "markdown",
      "metadata": {
        "id": "kxY86vhonST1"
      },
      "source": [
        "# Import Libraries"
      ]
    },
    {
      "cell_type": "markdown",
      "metadata": {
        "id": "WxLSD_8nnDFS"
      },
      "source": [
        "**For Keras Models**"
      ]
    },
    {
      "cell_type": "code",
      "metadata": {
        "id": "ab2OEH8B1cl2"
      },
      "source": [
        "#importing needed libraries\n",
        "\n",
        "import tensorflow as tf\n",
        "from tensorflow.keras import callbacks\n",
        "from tensorflow.keras import optimizers\n",
        "from tensorflow.keras import Model\n",
        "from tensorflow.keras.layers import Dropout, Flatten, Dense\n",
        "from tensorflow.keras.optimizers import Adam\n",
        "from tensorflow.keras.applications import VGG16, VGG19\n",
        "import tensorflow.keras\n",
        "import numpy as np\n",
        "from tensorflow.keras.preprocessing.image import img_to_array, load_img\n",
        "from PIL import Image\n",
        "from tensorflow.keras.models import load_model\n",
        "from tensorflow.keras.callbacks import ModelCheckpoint\n",
        "import PIL\n",
        "import re\n",
        "from tensorflow import keras\n",
        "from tensorflow.keras import layers\n",
        "from tensorflow.keras.models import Sequential\n",
        "import random\n",
        "import pathlib\n",
        "import shutil\n",
        "import os.path\n",
        "from os import path"
      ],
      "execution_count": null,
      "outputs": []
    },
    {
      "cell_type": "markdown",
      "metadata": {
        "id": "wTh4eZGEnWEb"
      },
      "source": [
        "**For Pytorch Model(AlexNet)**"
      ]
    },
    {
      "cell_type": "code",
      "metadata": {
        "id": "uDzdUXvBnXDv"
      },
      "source": [
        "from __future__ import print_function, division\n",
        "import torch\n",
        "import torch.nn as nn\n",
        "import torch.optim as optim\n",
        "from torch.optim import lr_scheduler\n",
        "import numpy as np\n",
        "import torchvision\n",
        "from torchvision import datasets, models, transforms\n",
        "import matplotlib.pyplot as plt\n",
        "import time\n",
        "import os\n",
        "import copy\n",
        "plt.ion()   # interactive mode"
      ],
      "execution_count": null,
      "outputs": []
    },
    {
      "cell_type": "markdown",
      "metadata": {
        "id": "Yi5-zScLn1G3"
      },
      "source": [
        "# Import the dataset"
      ]
    },
    {
      "cell_type": "code",
      "metadata": {
        "id": "2Oa5k8g-l6pq"
      },
      "source": [
        "def class_classification(images):\n",
        "\n",
        "  for image in images:\n",
        "   img_id =int(re.findall(r'\\d+' , str(image))[0])\n",
        "   if (\"bodianus\" in str(image) or 337 <= img_id <= 461 ):\n",
        "    shutil.copy(image,path_1)\n",
        "   elif (\"coris\" in str(image) or 1224 <= img_id <= 1315):\n",
        "    shutil.copy(image,path_2)\n",
        "   elif (\"epinephelus\" in str(image) or 1410 <= img_id <= 1697):\n",
        "    shutil.copy(image,path_3)\n",
        "   elif (\"halichoeres\" in str(image) or 1814 <= img_id <= 2026):\n",
        "    shutil.copy(image,path_4)\n",
        "   elif (\"lethrinus\" in str(image) or 2223 <= img_id <= 2382):\n",
        "    shutil.copy(image,path_5) \n",
        "   elif (\"lutjanus\" in str(image) or 2437 <= img_id <= 2755):\n",
        "    shutil.copy(image,path_6)\n",
        "   elif (\"pseudanthias\" in str(image) or 3390 <= img_id <= 3576):\n",
        "    shutil.copy(image,path_7)\n",
        "   elif (\"thalassoma\" in str(image) or 4112 <= img_id <= 4241):\n",
        "    shutil.copy(image,path_8)"
      ],
      "execution_count": null,
      "outputs": []
    },
    {
      "cell_type": "code",
      "metadata": {
        "id": "-6lpCFVDeohQ"
      },
      "source": [
        "path_1=\"/content/Fish_Image/bodianus\"\n",
        "path_2=\"/content/Fish_Image/coris\"\n",
        "path_3=\"/content/Fish_Image/epinephelus\"\n",
        "path_4=\"/content/Fish_Image/halichoeres\"\n",
        "path_5=\"/content/Fish_Image/lethrinus\"\n",
        "path_6=\"/content/Fish_Image/lutjanus\"\n",
        "path_7=\"/content/Fish_Image/pseudanthias\"\n",
        "path_8=\"/content/Fish_Image/thalassoma\"\n",
        "def extract_dataset():\n",
        " if (not path.exists(\"/content/Fish_Image\")): \n",
        "   #making sure that the data is not already extracted\n",
        "  !unzip -q \"/content/drive/MyDrive/FishKaggle/archive (3).zip\" -d \"/content/\"\n",
        "  os.mkdir(\"/content/Fish_Image/\")\n",
        "  #!unrar x \"/content/drive/MyDrive/FishKaggle/Talipia.rar\" -d \"/content/Fish_Image\"\n",
        "  os.mkdir(path_1)\n",
        "  os.mkdir(path_2)\n",
        "  os.mkdir(path_3)\n",
        "  os.mkdir(path_4)  \n",
        "  os.mkdir(path_5)\n",
        "  os.mkdir(path_6)\n",
        "  os.mkdir(path_7)\n",
        "  os.mkdir(path_8) \n",
        "  data_dir_raw = pathlib.Path(\"/content/Fish_Data/images/raw_images\")\n",
        "  data_dir_cropped = pathlib.Path(\"/content/Fish_Data/images/cropped\")\n",
        "  data_dir_numbered = pathlib.Path(\"/content/Fish_Data/images/numbered\")\n",
        "  images = list(data_dir_numbered.glob('*')) + list(data_dir_raw.glob('*')) + list(data_dir_cropped.glob('*')) \n",
        "  class_classification(images)"
      ],
      "execution_count": null,
      "outputs": []
    },
    {
      "cell_type": "code",
      "metadata": {
        "id": "KTp2_l0Qeokh"
      },
      "source": [
        "def class_classification(images):\n",
        "\n",
        "  for image in images:\n",
        "   img_id =int(re.findall(r'\\d+' , str(image))[0])\n",
        "   if (\"bodianus\" in str(image) or 337 <= img_id <= 461 ):\n",
        "    shutil.copy(image,path_1)\n",
        "   elif (\"coris\" in str(image) or 1224 <= img_id <= 1315):\n",
        "    shutil.copy(image,path_2)\n",
        "   elif (\"epinephelus\" in str(image) or 1410 <= img_id <= 1697):\n",
        "    shutil.copy(image,path_3)\n",
        "   elif (\"halichoeres\" in str(image) or 1814 <= img_id <= 2026):\n",
        "    shutil.copy(image,path_4)\n",
        "   elif (\"lethrinus\" in str(image) or 2223 <= img_id <= 2382):\n",
        "    shutil.copy(image,path_5) \n",
        "   elif (\"lutjanus\" in str(image) or 2437 <= img_id <= 2755):\n",
        "    shutil.copy(image,path_6)\n",
        "   elif (\"pseudanthias\" in str(image) or 3390 <= img_id <= 3576):\n",
        "    shutil.copy(image,path_7)\n",
        "   elif (\"thalassoma\" in str(image) or 4112 <= img_id <= 4241):\n",
        "    shutil.copy(image,path_8)"
      ],
      "execution_count": null,
      "outputs": []
    },
    {
      "cell_type": "code",
      "metadata": {
        "id": "okEW50ZzmBLQ"
      },
      "source": [
        "def import_dataset(size): \n",
        "  extract_dataset()\n",
        "  data_dir=\"/content/Fish_Image/\"\n",
        "  batch_size = 32\n",
        "  img_height = size\n",
        "  img_width = size\n",
        " # \"\n",
        "\n",
        "  train_ds = tf.keras.preprocessing.image_dataset_from_directory(data_dir,validation_split=0.1,subset=\"training\",seed=123,image_size=(img_height, img_width),batch_size=batch_size,labels='inferred',label_mode='int')\n",
        "  val_ds = tf.keras.preprocessing.image_dataset_from_directory(data_dir,validation_split=0.1,subset=\"validation\",seed=123,image_size=(img_height, img_width),batch_size=batch_size,labels='inferred',label_mode='int')\n",
        "  test_ds = tf.keras.preprocessing.image_dataset_from_directory(data_dir,validation_split=0.1,subset=\"validation\",seed=123,image_size=(img_height, img_width),batch_size=1,labels='inferred',label_mode='int')  \n",
        "  return train_ds,val_ds,test_ds"
      ],
      "execution_count": null,
      "outputs": []
    },
    {
      "cell_type": "code",
      "metadata": {
        "colab": {
          "base_uri": "https://localhost:8080/"
        },
        "id": "aAD9WLsM1jHb",
        "outputId": "efeefb4a-e2ee-4a66-c02e-4bfce078bd46"
      },
      "source": [
        "!pip install gdown\n",
        "import gdown\n",
        "#proposed model\n",
        "!gdown -q --id 1--u6S2bQ-INYVfQsBTn67h-QvXtNRJTW"
      ],
      "execution_count": null,
      "outputs": [
        {
          "output_type": "stream",
          "text": [
            "Requirement already satisfied: gdown in /usr/local/lib/python3.7/dist-packages (3.6.4)\n",
            "Requirement already satisfied: requests in /usr/local/lib/python3.7/dist-packages (from gdown) (2.23.0)\n",
            "Requirement already satisfied: six in /usr/local/lib/python3.7/dist-packages (from gdown) (1.15.0)\n",
            "Requirement already satisfied: tqdm in /usr/local/lib/python3.7/dist-packages (from gdown) (4.41.1)\n",
            "Requirement already satisfied: urllib3!=1.25.0,!=1.25.1,<1.26,>=1.21.1 in /usr/local/lib/python3.7/dist-packages (from requests->gdown) (1.24.3)\n",
            "Requirement already satisfied: idna<3,>=2.5 in /usr/local/lib/python3.7/dist-packages (from requests->gdown) (2.10)\n",
            "Requirement already satisfied: chardet<4,>=3.0.2 in /usr/local/lib/python3.7/dist-packages (from requests->gdown) (3.0.4)\n",
            "Requirement already satisfied: certifi>=2017.4.17 in /usr/local/lib/python3.7/dist-packages (from requests->gdown) (2020.12.5)\n"
          ],
          "name": "stdout"
        }
      ]
    },
    {
      "cell_type": "code",
      "metadata": {
        "id": "Kd8ms0_JOayu"
      },
      "source": [
        "import os\n",
        "if (os.path.exists(\"/content/classesTalipia/.ipynb_checkpoints\")):\n",
        "  import shutil\n",
        "  shutil.rmtree(\"/content/classesTalipia/.ipynb_checkpoints\")"
      ],
      "execution_count": null,
      "outputs": []
    },
    {
      "cell_type": "markdown",
      "metadata": {
        "id": "86sf2hZ5oG5M"
      },
      "source": [
        "# Functions for analyzing the model's output"
      ]
    },
    {
      "cell_type": "code",
      "metadata": {
        "id": "uYpVb8dk1jPL"
      },
      "source": [
        "#plot\n",
        "def plot_model_acc_loss(history):\n",
        "    from matplotlib import pyplot as plt\n",
        "    plt.plot(history.history['accuracy'])\n",
        "    plt.plot(history.history['val_accuracy'])\n",
        "    plt.title('model accuracy')\n",
        "    plt.ylabel('accuracy')\n",
        "    plt.xlabel('epoch')\n",
        "    plt.legend(['train', 'val'], loc='upper left')\n",
        "    plt.show()\n",
        "\n",
        "    plt.plot(history.history['loss'])\n",
        "    plt.plot(history.history['val_loss'])\n",
        "    plt.title('model loss')\n",
        "    plt.ylabel('loss')\n",
        "    plt.xlabel('epoch')\n",
        "    plt.legend(['train', 'val'], loc='upper left')\n",
        "    plt.show()\n",
        "    \n",
        "#evaluate the model\n",
        "# We evaluate the accuracy and the loss in the test set\n",
        "def evaluate_model_testset(model,test_ds):\n",
        "    scores = model.evaluate(test_ds, verbose=1)\n",
        "    print('Test loss:', scores[0])\n",
        "    print('Test accuracy:', scores[1])\n",
        "    \n",
        "    \n"
      ],
      "execution_count": null,
      "outputs": []
    },
    {
      "cell_type": "markdown",
      "metadata": {
        "id": "fuN5UWFaoS3r"
      },
      "source": [
        "# Building the Models"
      ]
    },
    {
      "cell_type": "markdown",
      "metadata": {
        "id": "qy4SBXczoYjh"
      },
      "source": [
        "**VGG-16**"
      ]
    },
    {
      "cell_type": "code",
      "metadata": {
        "id": "lfCmCFIF1jSj"
      },
      "source": [
        "def create_VGG16_model(): \n",
        "    img_height = 224\n",
        "    img_width  = 224\n",
        "    num_classes = 8\n",
        "    input_shape=(224,224,3)\n",
        "\n",
        "\n",
        "    i = tf.keras.layers.Input([None, None, 3], dtype = tf.uint8)\n",
        "    x = tf.cast(i, tf.float32)\n",
        "    x = tf.keras.applications.vgg16.preprocess_input(x)\n",
        "\n",
        "  \n",
        "    base_model = VGG16(weights='imagenet', include_top=False, input_shape=input_shape)\n",
        "    base_model.summary()\n",
        "    for layer in base_model.layers: \n",
        "        layer.trainable = False\n",
        "        print('Layer ' + layer.name + ' frozen.')\n",
        "         \n",
        "    last = base_model.layers[-1].output\n",
        "    x = Flatten()(last)\n",
        "    x = Dense(4096, activation='relu', name='fc1')(x)\n",
        "    x = Dropout(0.3)(x)\n",
        "    x = Dense(8, activation='softmax', name='predictions')(x)\n",
        "    model = Model(base_model.input, x)\n",
        "    \n",
        "    model.compile(loss=tf.keras.losses.SparseCategoricalCrossentropy(from_logits=True), optimizer=Adam(learning_rate=0.00001), metrics=[\"accuracy\"])\n",
        "\n",
        "    model.summary()\n",
        "\n",
        "    return model"
      ],
      "execution_count": null,
      "outputs": []
    },
    {
      "cell_type": "code",
      "metadata": {
        "id": "37bGiNzSGyNN"
      },
      "source": [
        "def run_model_VGG16() : \n",
        "    train_ds , val_ds, test_ds = import_dataset(224)\n",
        "    model = create_VGG16_model()\n",
        "    history = model.fit(train_ds,validation_data=val_ds,epochs=20)\n",
        "    \n",
        "    plot_model_acc_loss(history)\n",
        "\n",
        "    model.summary()\n",
        "    return model,test_ds"
      ],
      "execution_count": null,
      "outputs": []
    },
    {
      "cell_type": "markdown",
      "metadata": {
        "id": "epAyIQXLocnn"
      },
      "source": [
        "**VGG-19**"
      ]
    },
    {
      "cell_type": "code",
      "metadata": {
        "id": "RMvTqv_x1jWR"
      },
      "source": [
        "def run_model_VGG19():\n",
        "    input_shape=(224,224,3)\n",
        "    base_model = VGG19(weights='imagenet', include_top=False, input_shape=input_shape)\n",
        "    base_model.summary()\n",
        "\n",
        "    for layer in base_model.layers: \n",
        "        if layer.name == 'block5_conv1':\n",
        "            break\n",
        "        layer.trainable = False\n",
        "        print('Layer ' + layer.name + ' frozen.')\n",
        "        \n",
        "    last = base_model.layers[-1].output\n",
        "    x = Flatten()(last)\n",
        "    x = Dense(1000, activation='relu', name='fc1')(x)\n",
        "    x = Dropout(0.3)(x)\n",
        "    x = Dense(8, activation='softmax', name='predictions')(x)\n",
        "    model = Model(base_model.input, x)\n",
        "    \n",
        "    model.compile(loss=tf.keras.losses.SparseCategoricalCrossentropy(from_logits=True), optimizer=Adam(learning_rate=0.00001), metrics=[\"accuracy\"])\n",
        "    \n",
        "    model.summary()\n",
        "    \n",
        "    train_ds , val_ds, test_ds = import_dataset(224)\n",
        "    history = model.fit(train_ds,validation_data=val_ds,epochs=20)\n",
        "    \n",
        "    plot_model_acc_loss(history)\n",
        "\n",
        "    model.summary()\n",
        "    return model,test_ds"
      ],
      "execution_count": null,
      "outputs": []
    },
    {
      "cell_type": "markdown",
      "metadata": {
        "id": "0JD-Wyhoog7S"
      },
      "source": [
        "**AlexNet Pytorch**"
      ]
    },
    {
      "cell_type": "code",
      "metadata": {
        "colab": {
          "base_uri": "https://localhost:8080/"
        },
        "id": "g2Pz7lKdeZPi",
        "collapsed": true,
        "outputId": "df6cf88a-4fa5-433a-9311-250699fb6683"
      },
      "source": [
        "import torch\n",
        "from torchvision import transforms \n",
        "from torchvision import datasets\n",
        "import os\n",
        "\n",
        "\n",
        "# Data augmentation and normalization for training\n",
        "# Just normalization for validation\n",
        "data_transforms = {\n",
        "    'Train': transforms.Compose([\n",
        "        transforms.RandomResizedCrop(224),\n",
        "        transforms.RandomHorizontalFlip(),\n",
        "        transforms.ToTensor(),\n",
        "        transforms.Normalize([0.485, 0.456, 0.406], [0.229, 0.224, 0.225])\n",
        "    ]),\n",
        "    'Validation': transforms.Compose([\n",
        "        transforms.Resize(256),\n",
        "        transforms.CenterCrop(224),\n",
        "        transforms.ToTensor(),\n",
        "        transforms.Normalize([0.485, 0.456, 0.406], [0.229, 0.224, 0.225])\n",
        "    ]),\n",
        "}\n",
        "!gdown -q --id 1l4M1AheMS5vukyo4rBGinmDeUA0bwVtx\n",
        "!unzip -q All_fish.zip -d All_fish\n",
        "data_dir = '/content/All_fish/All_fish/All_fish'\n",
        "image_datasets = {x: datasets.ImageFolder(os.path.join(data_dir, x),\n",
        "                                          data_transforms[x])\n",
        "                  for x in ['Train', 'Validation']}\n",
        "dataloaders = {x: torch.utils.data.DataLoader(image_datasets[x], batch_size=4,\n",
        "                                             shuffle=True, num_workers=4)\n",
        "              for x in ['Train', 'Validation']}\n",
        "dataset_sizes = {x: len(image_datasets[x]) for x in ['Train', 'Validation']}\n",
        "class_names = image_datasets['Train'].classes\n",
        "\n",
        "device = torch.device(\"cuda:0\" if torch.cuda.is_available() else \"cpu\")"
      ],
      "execution_count": null,
      "outputs": [
        {
          "output_type": "stream",
          "text": [
            "/usr/local/lib/python3.7/dist-packages/torch/utils/data/dataloader.py:477: UserWarning: This DataLoader will create 4 worker processes in total. Our suggested max number of worker in current system is 2, which is smaller than what this DataLoader is going to create. Please be aware that excessive worker creation might get DataLoader running slow or even freeze, lower the worker number to avoid potential slowness/freeze if necessary.\n",
            "  cpuset_checked))\n"
          ],
          "name": "stderr"
        }
      ]
    },
    {
      "cell_type": "code",
      "metadata": {
        "colab": {
          "base_uri": "https://localhost:8080/",
          "height": 200
        },
        "id": "cmmzaLGReiui",
        "outputId": "1adde46a-1570-475f-b9e6-42f40f06ecdc"
      },
      "source": [
        "def imshow(inp, title=None):\n",
        "    \"\"\"Imshow for Tensor.\"\"\"\n",
        "    inp = inp.numpy().transpose((1, 2, 0))\n",
        "    mean = np.array([0.485, 0.456, 0.406])\n",
        "    std = np.array([0.229, 0.224, 0.225])\n",
        "    inp = std * inp + mean\n",
        "    inp = np.clip(inp, 0, 1)\n",
        "    plt.imshow(inp)\n",
        "    if title is not None:\n",
        "        plt.title(title)\n",
        "    plt.pause(0.001)  # pause a bit so that plots are updated\n",
        "\n",
        "\n",
        "# Get a batch of training data\n",
        "inputs, classes = next(iter(dataloaders['Train']))\n",
        "\n",
        "# Make a grid from batch\n",
        "out = torchvision.utils.make_grid(inputs)\n",
        "\n",
        "imshow(out, title=[class_names[x] for x in classes])"
      ],
      "execution_count": null,
      "outputs": [
        {
          "output_type": "stream",
          "text": [
            "/usr/local/lib/python3.7/dist-packages/torch/utils/data/dataloader.py:477: UserWarning: This DataLoader will create 4 worker processes in total. Our suggested max number of worker in current system is 2, which is smaller than what this DataLoader is going to create. Please be aware that excessive worker creation might get DataLoader running slow or even freeze, lower the worker number to avoid potential slowness/freeze if necessary.\n",
            "  cpuset_checked))\n"
          ],
          "name": "stderr"
        },
        {
          "output_type": "display_data",
          "data": {
            "image/png": "[encoded data removed]",
            "text/plain": [
              "<Figure size 432x288 with 1 Axes>"
            ]
          },
          "metadata": {
            "tags": [],
            "needs_background": "light"
          }
        }
      ]
    },
    {
      "cell_type": "code",
      "metadata": {
        "id": "lKbvT-IUejVR"
      },
      "source": [
        "def train_model(model, criterion, optimizer, scheduler, num_epochs=25):\n",
        "    since = time.time()\n",
        "\n",
        "    best_model_wts = copy.deepcopy(model.state_dict())\n",
        "    best_acc = 0.0\n",
        "\n",
        "    for epoch in range(num_epochs):\n",
        "        print('Epoch {}/{}'.format(epoch, num_epochs - 1))\n",
        "        print('-' * 10)\n",
        "\n",
        "        # Each epoch has a training and validation phase\n",
        "        for phase in ['Train', 'Validation']:\n",
        "            if phase == 'Train':\n",
        "                model.train()  # Set model to training mode\n",
        "            else:\n",
        "                model.eval()   # Set model to evaluate mode\n",
        "\n",
        "            running_loss = 0.0\n",
        "            running_corrects = 0\n",
        "\n",
        "            # Iterate over data.\n",
        "            for inputs, labels in dataloaders[phase]:\n",
        "                inputs = inputs.to(device)\n",
        "                labels = labels.to(device)\n",
        "\n",
        "                # zero the parameter gradients\n",
        "                optimizer.zero_grad()\n",
        "\n",
        "                # forward\n",
        "                # track history if only in train\n",
        "                with torch.set_grad_enabled(phase == 'Train'):\n",
        "                    outputs = model(inputs)\n",
        "                    _, preds = torch.max(outputs, 1)\n",
        "                    loss = criterion(outputs, labels)\n",
        "\n",
        "                    # backward + optimize only if in training phase\n",
        "                    if phase == 'Train':\n",
        "                        loss.backward()\n",
        "                        optimizer.step()\n",
        "\n",
        "                # statistics\n",
        "                running_loss += loss.item() * inputs.size(0)\n",
        "                running_corrects += torch.sum(preds == labels.data)\n",
        "            if phase == 'Train':\n",
        "                scheduler.step()\n",
        "\n",
        "            epoch_loss = running_loss / dataset_sizes[phase]\n",
        "            epoch_acc = running_corrects.double() / dataset_sizes[phase]\n",
        "\n",
        "            print('{} Loss: {:.4f} Acc: {:.4f}'.format(\n",
        "                phase, epoch_loss, epoch_acc))\n",
        "\n",
        "            # deep copy the model\n",
        "            if phase == 'Validation' and epoch_acc > best_acc:\n",
        "                best_acc = epoch_acc\n",
        "                best_model_wts = copy.deepcopy(model.state_dict())\n",
        "\n",
        "        print()\n",
        "\n",
        "    time_elapsed = time.time() - since\n",
        "    print('Training complete in {:.0f}m {:.0f}s'.format(\n",
        "        time_elapsed // 60, time_elapsed % 60))\n",
        "    print('Best val Acc: {:4f}'.format(best_acc))\n",
        "\n",
        "    # load best model weights\n",
        "    model.load_state_dict(best_model_wts)\n",
        "    return model"
      ],
      "execution_count": null,
      "outputs": []
    },
    {
      "cell_type": "code",
      "metadata": {
        "id": "_MJDYtk9ejcH"
      },
      "source": [
        "def visualize_model(model, num_images=6):\n",
        "    was_training = model.training\n",
        "    model.eval()\n",
        "    images_so_far = 0\n",
        "    fig = plt.figure()\n",
        "\n",
        "    with torch.no_grad():\n",
        "        for i, (inputs, labels) in enumerate(dataloaders['Validation']):\n",
        "            inputs = inputs.to(device)\n",
        "            labels = labels.to(device)\n",
        "\n",
        "            outputs = model(inputs)\n",
        "            _, preds = torch.max(outputs, 1)\n",
        "\n",
        "            for j in range(inputs.size()[0]):\n",
        "                images_so_far += 1\n",
        "                ax = plt.subplot(num_images//2, 2, images_so_far)\n",
        "                ax.axis('off')\n",
        "                ax.set_title('predicted: {}'.format(class_names[preds[j]]))\n",
        "                imshow(inputs.cpu().data[j])\n",
        "\n",
        "                if images_so_far == num_images:\n",
        "                    model.train(mode=was_training)\n",
        "                    return\n",
        "        model.train(mode=was_training)"
      ],
      "execution_count": null,
      "outputs": []
    },
    {
      "cell_type": "code",
      "metadata": {
        "id": "mPcSMiJBeoeE"
      },
      "source": [
        "def run_model_AlexNet():\n",
        "  model_ft = models.alexnet(pretrained=True)\n",
        "  num_ftrs = model_ft.classifier[6].in_features\n",
        "  model_ft.classifier[6] = nn.Linear(num_ftrs,8)\n",
        "\n",
        "  input_size = 224\n",
        "  \n",
        "  model_ft = model_ft.to(device)\n",
        "  \n",
        "  criterion = nn.CrossEntropyLoss()\n",
        "  \n",
        "  optimizer_ft = optim.SGD(model_ft.parameters(), lr=0.001, momentum=0.9)\n",
        "\n",
        "  # Decay LR by a factor of 0.1 every 7 epochs\n",
        "  exp_lr_scheduler = lr_scheduler.StepLR(optimizer_ft, step_size=7, gamma=0.1)\n",
        "\n",
        "  model_ft = train_model(model_ft, criterion, optimizer_ft, exp_lr_scheduler,\n",
        "                       num_epochs=25)\n",
        "  return model_ft"
      ],
      "execution_count": null,
      "outputs": []
    },
    {
      "cell_type": "markdown",
      "metadata": {
        "id": "Oq3m7VOEonMW"
      },
      "source": [
        "**Our Model**"
      ]
    },
    {
      "cell_type": "code",
      "metadata": {
        "id": "zyN-tYFdmBOT"
      },
      "source": [
        "def create_model(): \n",
        "    img_height = 120\n",
        "    img_width  = 120\n",
        "    num_classes = 8 \n",
        "    model = tf.keras.Sequential([layers.experimental.preprocessing.Rescaling(1./255, input_shape=(img_height, img_width, 3)),\n",
        "                             layers.Conv2D(32, 5, activation='relu'),\n",
        "                             layers.MaxPooling2D(),\n",
        "                             layers.Conv2D(32, 3, activation='relu'),\n",
        "                             layers.MaxPooling2D(),\n",
        "                             layers.Dropout(0.2),\n",
        "                             layers.Flatten(),\n",
        "                             layers.Dense(128, activation='relu'),\n",
        "                             layers.Dense(num_classes)])\n",
        "\n",
        "    model.compile(loss=tf.keras.losses.SparseCategoricalCrossentropy(from_logits=True), optimizer=\"adam\", metrics=[\"accuracy\"])\n",
        "    return model"
      ],
      "execution_count": null,
      "outputs": []
    },
    {
      "cell_type": "code",
      "metadata": {
        "id": "BiFf3filmBQa"
      },
      "source": [
        "def run_model() : \n",
        "    train_ds , val_ds, test_ds = import_dataset(120)\n",
        "    model = create_model()\n",
        "    CNN_data = model.fit(train_ds,validation_data=val_ds,epochs=20)\n",
        "    model.summary()\n",
        "\n",
        "    acc = CNN_data.history['accuracy']\n",
        "    val_acc = CNN_data.history['val_accuracy']\n",
        "\n",
        "    loss = CNN_data.history['loss']\n",
        "    val_loss = CNN_data.history['val_loss']\n",
        "    epochs = 20\n",
        "    epochs_range = range(epochs)\n",
        "\n",
        "    plt.figure(figsize=(8, 8))\n",
        "    plt.subplot(1, 2, 1)\n",
        "    plt.plot(epochs_range, acc, label='Training Accuracy')\n",
        "    plt.plot(epochs_range, val_acc, label='Validation Accuracy')\n",
        "    plt.legend(loc='lower right')\n",
        "    plt.title('Training and Validation Accuracy')\n",
        "\n",
        "    plt.subplot(1, 2, 2)\n",
        "    plt.plot(epochs_range, loss, label='Training Loss')\n",
        "    plt.plot(epochs_range, val_loss, label='Validation Loss')\n",
        "    plt.legend(loc='upper right')\n",
        "    plt.title('Training and Validation Loss')\n",
        "    plt.show()\n",
        "    return model,test_ds"
      ],
      "execution_count": null,
      "outputs": []
    },
    {
      "cell_type": "markdown",
      "metadata": {
        "id": "LPnNF016os4A"
      },
      "source": [
        "**Transfer Learning our Model**"
      ]
    },
    {
      "cell_type": "code",
      "metadata": {
        "id": "KfQxB9SXmmR0"
      },
      "source": [
        "def import_dataset_9classes(): \n",
        "  extract_dataset()\n",
        "  data_dir=\"/content/Fish_Image\"\n",
        "  !unrar x \"/content/drive/MyDrive/FishKaggle/Talipia.rar\" -d \"/content/Fish_Image\"\n",
        "\n",
        "  batch_size = 32\n",
        "  img_height = 120\n",
        "  img_width = 120\n",
        "\n",
        "  train_ds = tf.keras.preprocessing.image_dataset_from_directory(data_dir,validation_split=0.1,subset=\"training\",seed=123,image_size=(img_height, img_width),batch_size=batch_size,labels='inferred',label_mode='int')\n",
        "  val_ds = tf.keras.preprocessing.image_dataset_from_directory(data_dir,validation_split=0.1,subset=\"validation\",seed=123,image_size=(img_height, img_width),batch_size=batch_size,labels='inferred',label_mode='int')\n",
        "  test_ds = tf.keras.preprocessing.image_dataset_from_directory(data_dir,validation_split=0.1,subset=\"validation\",seed=123,image_size=(img_height, img_width),batch_size=batch_size,labels='inferred',label_mode='int')\n",
        "\n",
        "  return train_ds,val_ds, test_ds"
      ],
      "execution_count": null,
      "outputs": []
    },
    {
      "cell_type": "code",
      "metadata": {
        "id": "ObcAtC1UmmXH"
      },
      "source": [
        "def get_Model(include_top=True):\n",
        "    model = load_model('/content/Proposed_Model_New.h5')\n",
        "    if (include_top==False):\n",
        "        base_model_Model= Model(inputs=model.input, outputs=model.get_layer('dropout').output)\n",
        "    else:\n",
        "        base_model_Model=model\n",
        "        \n",
        "    return base_model_Model"
      ],
      "execution_count": null,
      "outputs": []
    },
    {
      "cell_type": "code",
      "metadata": {
        "id": "x2mPQBnMmmZR"
      },
      "source": [
        "def run_TL_OurModel():\n",
        "  train_ds_9 , val_ds_9,test_ds = import_dataset_9classes()\n",
        "  base_model_Model=get_Model(include_top=False)\n",
        "  base_model_Model.summary()\n",
        "  \n",
        "  for layer in base_model_Model.layers: \n",
        "    if layer.name == 'block2_conv':\n",
        "      break\n",
        "    layer.trainable = False\n",
        "    print('Layer ' + layer.name + ' frozen.')\n",
        "    \n",
        "  from tensorflow.keras import Model\n",
        "  last = base_model_Model.layers[-1].output\n",
        "  x = Flatten()(last)\n",
        "  x = Dense(4096, activation='relu', name='fc1')(x)\n",
        "  x = Dense(128, activation='relu', name='fc2')(x)\n",
        "  x = Dense(9, activation='relu', name='fc3')(x)\n",
        "\n",
        "  Model_model = Model(base_model_Model.input, x)\n",
        "  Model_model.compile(loss=tf.keras.losses.SparseCategoricalCrossentropy(from_logits=True), optimizer=Adam(learning_rate=0.00001), metrics=[\"accuracy\"])\n",
        "  Model_model.summary()\n",
        "\n",
        "  epochs = 20\n",
        "  batch_size = 32\n",
        "  history=Model_model.fit(train_ds_9,validation_data=val_ds_9,epochs=epochs)\n",
        "  plot_model_acc_loss(history)\n",
        "  return Model_model,test_ds"
      ],
      "execution_count": null,
      "outputs": []
    },
    {
      "cell_type": "code",
      "metadata": {
        "id": "VSxZ9l2d1jZ4"
      },
      "source": [
        "FishTypes=[\"Bodianus\",\"Coris\",\"Epinephelus\",\"Halichoeres\",\"Lethrinus\",\"Lutjanus\",\"Pseudanthias\",\"Thalassoma\"]"
      ],
      "execution_count": null,
      "outputs": []
    },
    {
      "cell_type": "code",
      "metadata": {
        "id": "NvAZaKvktCee"
      },
      "source": [
        ""
      ],
      "execution_count": null,
      "outputs": []
    },
    {
      "cell_type": "markdown",
      "metadata": {
        "id": "DHzv7k_No1_e"
      },
      "source": [
        "# Run the models\n"
      ]
    },
    {
      "cell_type": "markdown",
      "metadata": {
        "id": "HapOr6Aro6Ny"
      },
      "source": [
        "**1- VGG-16**"
      ]
    },
    {
      "cell_type": "code",
      "metadata": {
        "colab": {
          "base_uri": "https://localhost:8080/",
          "height": 1000
        },
        "id": "oM_hmYQA1jhJ",
        "outputId": "19d904c2-5e61-465c-904f-ff8d2220f53e"
      },
      "source": [
        "VGG16_model,test_ds=run_model_VGG16()\n",
        "evaluate_model_testset(VGG16_model,test_ds)\n",
        "#plot_random_images_form_each_class(VGG16_model,(224,224))"
      ],
      "execution_count": null,
      "outputs": [
        {
          "output_type": "stream",
          "text": [
            "Found 4541 files belonging to 8 classes.\n",
            "Using 4087 files for training.\n",
            "Found 4541 files belonging to 8 classes.\n",
            "Using 454 files for validation.\n",
            "Found 4541 files belonging to 8 classes.\n",
            "Using 454 files for validation.\n",
            "Downloading data from https://storage.googleapis.com/tensorflow/keras-applications/vgg16/vgg16_weights_tf_dim_ordering_tf_kernels_notop.h5\n",
            "58892288/58889256 [==============================] - 1s 0us/step\n",
            "Model: \"vgg16\"\n",
            "_________________________________________________________________\n",
            "Layer (type)                 Output Shape              Param #   \n",
            "=================================================================\n",
            "input_2 (InputLayer)         [(None, 224, 224, 3)]     0         \n",
            "_________________________________________________________________\n",
            "block1_conv1 (Conv2D)        (None, 224, 224, 64)      1792      \n",
            "_________________________________________________________________\n",
            "block1_conv2 (Conv2D)        (None, 224, 224, 64)      36928     \n",
            "_________________________________________________________________\n",
            "block1_pool (MaxPooling2D)   (None, 112, 112, 64)      0         \n",
            "_________________________________________________________________\n",
            "block2_conv1 (Conv2D)        (None, 112, 112, 128)     73856     \n",
            "_________________________________________________________________\n",
            "block2_conv2 (Conv2D)        (None, 112, 112, 128)     147584    \n",
            "_________________________________________________________________\n",
            "block2_pool (MaxPooling2D)   (None, 56, 56, 128)       0         \n",
            "_________________________________________________________________\n",
            "block3_conv1 (Conv2D)        (None, 56, 56, 256)       295168    \n",
            "_________________________________________________________________\n",
            "block3_conv2 (Conv2D)        (None, 56, 56, 256)       590080    \n",
            "_________________________________________________________________\n",
            "block3_conv3 (Conv2D)        (None, 56, 56, 256)       590080    \n",
            "_________________________________________________________________\n",
            "block3_pool (MaxPooling2D)   (None, 28, 28, 256)       0         \n",
            "_________________________________________________________________\n",
            "block4_conv1 (Conv2D)        (None, 28, 28, 512)       1180160   \n",
            "_________________________________________________________________\n",
            "block4_conv2 (Conv2D)        (None, 28, 28, 512)       2359808   \n",
            "_________________________________________________________________\n",
            "block4_conv3 (Conv2D)        (None, 28, 28, 512)       2359808   \n",
            "_________________________________________________________________\n",
            "block4_pool (MaxPooling2D)   (None, 14, 14, 512)       0         \n",
            "_________________________________________________________________\n",
            "block5_conv1 (Conv2D)        (None, 14, 14, 512)       2359808   \n",
            "_________________________________________________________________\n",
            "block5_conv2 (Conv2D)        (None, 14, 14, 512)       2359808   \n",
            "_________________________________________________________________\n",
            "block5_conv3 (Conv2D)        (None, 14, 14, 512)       2359808   \n",
            "_________________________________________________________________\n",
            "block5_pool (MaxPooling2D)   (None, 7, 7, 512)         0         \n",
            "=================================================================\n",
            "Total params: 14,714,688\n",
            "Trainable params: 14,714,688\n",
            "Non-trainable params: 0\n",
            "_________________________________________________________________\n",
            "Layer input_2 frozen.\n",
            "Layer block1_conv1 frozen.\n",
            "Layer block1_conv2 frozen.\n",
            "Layer block1_pool frozen.\n",
            "Layer block2_conv1 frozen.\n",
            "Layer block2_conv2 frozen.\n",
            "Layer block2_pool frozen.\n",
            "Layer block3_conv1 frozen.\n",
            "Layer block3_conv2 frozen.\n",
            "Layer block3_conv3 frozen.\n",
            "Layer block3_pool frozen.\n",
            "Layer block4_conv1 frozen.\n",
            "Layer block4_conv2 frozen.\n",
            "Layer block4_conv3 frozen.\n",
            "Layer block4_pool frozen.\n",
            "Layer block5_conv1 frozen.\n",
            "Layer block5_conv2 frozen.\n",
            "Layer block5_conv3 frozen.\n",
            "Layer block5_pool frozen.\n",
            "Model: \"model\"\n",
            "_________________________________________________________________\n",
            "Layer (type)                 Output Shape              Param #   \n",
            "=================================================================\n",
            "input_2 (InputLayer)         [(None, 224, 224, 3)]     0         \n",
            "_________________________________________________________________\n",
            "block1_conv1 (Conv2D)        (None, 224, 224, 64)      1792      \n",
            "_________________________________________________________________\n",
            "block1_conv2 (Conv2D)        (None, 224, 224, 64)      36928     \n",
            "_________________________________________________________________\n",
            "block1_pool (MaxPooling2D)   (None, 112, 112, 64)      0         \n",
            "_________________________________________________________________\n",
            "block2_conv1 (Conv2D)        (None, 112, 112, 128)     73856     \n",
            "_________________________________________________________________\n",
            "block2_conv2 (Conv2D)        (None, 112, 112, 128)     147584    \n",
            "_________________________________________________________________\n",
            "block2_pool (MaxPooling2D)   (None, 56, 56, 128)       0         \n",
            "_________________________________________________________________\n",
            "block3_conv1 (Conv2D)        (None, 56, 56, 256)       295168    \n",
            "_________________________________________________________________\n",
            "block3_conv2 (Conv2D)        (None, 56, 56, 256)       590080    \n",
            "_________________________________________________________________\n",
            "block3_conv3 (Conv2D)        (None, 56, 56, 256)       590080    \n",
            "_________________________________________________________________\n",
            "block3_pool (MaxPooling2D)   (None, 28, 28, 256)       0         \n",
            "_________________________________________________________________\n",
            "block4_conv1 (Conv2D)        (None, 28, 28, 512)       1180160   \n",
            "_________________________________________________________________\n",
            "block4_conv2 (Conv2D)        (None, 28, 28, 512)       2359808   \n",
            "_________________________________________________________________\n",
            "block4_conv3 (Conv2D)        (None, 28, 28, 512)       2359808   \n",
            "_________________________________________________________________\n",
            "block4_pool (MaxPooling2D)   (None, 14, 14, 512)       0         \n",
            "_________________________________________________________________\n",
            "block5_conv1 (Conv2D)        (None, 14, 14, 512)       2359808   \n",
            "_________________________________________________________________\n",
            "block5_conv2 (Conv2D)        (None, 14, 14, 512)       2359808   \n",
            "_________________________________________________________________\n",
            "block5_conv3 (Conv2D)        (None, 14, 14, 512)       2359808   \n",
            "_________________________________________________________________\n",
            "block5_pool (MaxPooling2D)   (None, 7, 7, 512)         0         \n",
            "_________________________________________________________________\n",
            "flatten (Flatten)            (None, 25088)             0         \n",
            "_________________________________________________________________\n",
            "fc1 (Dense)                  (None, 4096)              102764544 \n",
            "_________________________________________________________________\n",
            "dropout (Dropout)            (None, 4096)              0         \n",
            "_________________________________________________________________\n",
            "predictions (Dense)          (None, 8)                 32776     \n",
            "=================================================================\n",
            "Total params: 117,512,008\n",
            "Trainable params: 102,797,320\n",
            "Non-trainable params: 14,714,688\n",
            "_________________________________________________________________\n",
            "Epoch 1/20\n"
          ],
          "name": "stdout"
        },
        {
          "output_type": "stream",
          "text": [
            "/usr/local/lib/python3.7/dist-packages/tensorflow/python/keras/backend.py:4930: UserWarning: \"`sparse_categorical_crossentropy` received `from_logits=True`, but the `output` argument was produced by a sigmoid or softmax activation and thus does not represent logits. Was this intended?\"\n",
            "  '\"`sparse_categorical_crossentropy` received `from_logits=True`, but '\n"
          ],
          "name": "stderr"
        },
        {
          "output_type": "stream",
          "text": [
            "128/128 [==============================] - 72s 276ms/step - loss: 5.2909 - accuracy: 0.6907 - val_loss: 1.1853 - val_accuracy: 0.8921\n",
            "Epoch 2/20\n",
            "128/128 [==============================] - 30s 230ms/step - loss: 0.6978 - accuracy: 0.9327 - val_loss: 0.7973 - val_accuracy: 0.9317\n",
            "Epoch 3/20\n",
            "128/128 [==============================] - 30s 234ms/step - loss: 0.2923 - accuracy: 0.9655 - val_loss: 0.8011 - val_accuracy: 0.9449\n",
            "Epoch 4/20\n",
            "128/128 [==============================] - 31s 236ms/step - loss: 0.2134 - accuracy: 0.9758 - val_loss: 0.5938 - val_accuracy: 0.9449\n",
            "Epoch 5/20\n",
            "128/128 [==============================] - 31s 240ms/step - loss: 0.1133 - accuracy: 0.9858 - val_loss: 0.6723 - val_accuracy: 0.9383\n",
            "Epoch 6/20\n",
            "128/128 [==============================] - 31s 238ms/step - loss: 0.0634 - accuracy: 0.9917 - val_loss: 0.4985 - val_accuracy: 0.9515\n",
            "Epoch 7/20\n",
            "128/128 [==============================] - 31s 238ms/step - loss: 0.0416 - accuracy: 0.9917 - val_loss: 0.5588 - val_accuracy: 0.9449\n",
            "Epoch 8/20\n",
            "128/128 [==============================] - 31s 241ms/step - loss: 0.0588 - accuracy: 0.9914 - val_loss: 0.5669 - val_accuracy: 0.9626\n",
            "Epoch 9/20\n",
            "128/128 [==============================] - 31s 239ms/step - loss: 0.0684 - accuracy: 0.9929 - val_loss: 0.6599 - val_accuracy: 0.9559\n",
            "Epoch 10/20\n",
            "128/128 [==============================] - 31s 241ms/step - loss: 0.0958 - accuracy: 0.9919 - val_loss: 0.4997 - val_accuracy: 0.9626\n",
            "Epoch 11/20\n",
            "128/128 [==============================] - 31s 239ms/step - loss: 0.0545 - accuracy: 0.9931 - val_loss: 0.6354 - val_accuracy: 0.9604\n",
            "Epoch 12/20\n",
            "128/128 [==============================] - 31s 238ms/step - loss: 0.0279 - accuracy: 0.9944 - val_loss: 0.5992 - val_accuracy: 0.9604\n",
            "Epoch 13/20\n",
            "128/128 [==============================] - 31s 241ms/step - loss: 0.0498 - accuracy: 0.9944 - val_loss: 0.8382 - val_accuracy: 0.9559\n",
            "Epoch 14/20\n",
            "128/128 [==============================] - 31s 239ms/step - loss: 0.0384 - accuracy: 0.9951 - val_loss: 0.8238 - val_accuracy: 0.9471\n",
            "Epoch 15/20\n",
            "128/128 [==============================] - 31s 240ms/step - loss: 0.0514 - accuracy: 0.9946 - val_loss: 0.8358 - val_accuracy: 0.9427\n",
            "Epoch 16/20\n",
            "128/128 [==============================] - 31s 238ms/step - loss: 0.0325 - accuracy: 0.9954 - val_loss: 0.4681 - val_accuracy: 0.9670\n",
            "Epoch 17/20\n",
            "128/128 [==============================] - 31s 239ms/step - loss: 0.0269 - accuracy: 0.9966 - val_loss: 0.6426 - val_accuracy: 0.9604\n",
            "Epoch 18/20\n",
            "128/128 [==============================] - 31s 240ms/step - loss: 0.0248 - accuracy: 0.9971 - val_loss: 0.8306 - val_accuracy: 0.9405\n",
            "Epoch 19/20\n",
            "128/128 [==============================] - 31s 238ms/step - loss: 0.0362 - accuracy: 0.9961 - val_loss: 0.4953 - val_accuracy: 0.9537\n",
            "Epoch 20/20\n",
            "128/128 [==============================] - 31s 239ms/step - loss: 0.0123 - accuracy: 0.9980 - val_loss: 0.5143 - val_accuracy: 0.9648\n"
          ],
          "name": "stdout"
        },
        {
          "output_type": "display_data",
          "data": {
            "image/png": "[encoded data removed]",
            "text/plain": [
              "<Figure size 432x288 with 1 Axes>"
            ]
          },
          "metadata": {
            "tags": [],
            "needs_background": "light"
          }
        },
        {
          "output_type": "display_data",
          "data": {
            "image/png": "[encoded data removed]",
            "text/plain": [
              "<Figure size 432x288 with 1 Axes>"
            ]
          },
          "metadata": {
            "tags": [],
            "needs_background": "light"
          }
        },
        {
          "output_type": "stream",
          "text": [
            "Model: \"model\"\n",
            "_________________________________________________________________\n",
            "Layer (type)                 Output Shape              Param #   \n",
            "=================================================================\n",
            "input_2 (InputLayer)         [(None, 224, 224, 3)]     0         \n",
            "_________________________________________________________________\n",
            "block1_conv1 (Conv2D)        (None, 224, 224, 64)      1792      \n",
            "_________________________________________________________________\n",
            "block1_conv2 (Conv2D)        (None, 224, 224, 64)      36928     \n",
            "_________________________________________________________________\n",
            "block1_pool (MaxPooling2D)   (None, 112, 112, 64)      0         \n",
            "_________________________________________________________________\n",
            "block2_conv1 (Conv2D)        (None, 112, 112, 128)     73856     \n",
            "_________________________________________________________________\n",
            "block2_conv2 (Conv2D)        (None, 112, 112, 128)     147584    \n",
            "_________________________________________________________________\n",
            "block2_pool (MaxPooling2D)   (None, 56, 56, 128)       0         \n",
            "_________________________________________________________________\n",
            "block3_conv1 (Conv2D)        (None, 56, 56, 256)       295168    \n",
            "_________________________________________________________________\n",
            "block3_conv2 (Conv2D)        (None, 56, 56, 256)       590080    \n",
            "_________________________________________________________________\n",
            "block3_conv3 (Conv2D)        (None, 56, 56, 256)       590080    \n",
            "_________________________________________________________________\n",
            "block3_pool (MaxPooling2D)   (None, 28, 28, 256)       0         \n",
            "_________________________________________________________________\n",
            "block4_conv1 (Conv2D)        (None, 28, 28, 512)       1180160   \n",
            "_________________________________________________________________\n",
            "block4_conv2 (Conv2D)        (None, 28, 28, 512)       2359808   \n",
            "_________________________________________________________________\n",
            "block4_conv3 (Conv2D)        (None, 28, 28, 512)       2359808   \n",
            "_________________________________________________________________\n",
            "block4_pool (MaxPooling2D)   (None, 14, 14, 512)       0         \n",
            "_________________________________________________________________\n",
            "block5_conv1 (Conv2D)        (None, 14, 14, 512)       2359808   \n",
            "_________________________________________________________________\n",
            "block5_conv2 (Conv2D)        (None, 14, 14, 512)       2359808   \n",
            "_________________________________________________________________\n",
            "block5_conv3 (Conv2D)        (None, 14, 14, 512)       2359808   \n",
            "_________________________________________________________________\n",
            "block5_pool (MaxPooling2D)   (None, 7, 7, 512)         0         \n",
            "_________________________________________________________________\n",
            "flatten (Flatten)            (None, 25088)             0         \n",
            "_________________________________________________________________\n",
            "fc1 (Dense)                  (None, 4096)              102764544 \n",
            "_________________________________________________________________\n",
            "dropout (Dropout)            (None, 4096)              0         \n",
            "_________________________________________________________________\n",
            "predictions (Dense)          (None, 8)                 32776     \n",
            "=================================================================\n",
            "Total params: 117,512,008\n",
            "Trainable params: 102,797,320\n",
            "Non-trainable params: 14,714,688\n",
            "_________________________________________________________________\n",
            "454/454 [==============================] - 6s 12ms/step - loss: 0.5143 - accuracy: 0.9648\n",
            "Test loss: 0.5142917633056641\n",
            "Test accuracy: 0.9647576808929443\n"
          ],
          "name": "stdout"
        }
      ]
    },
    {
      "cell_type": "markdown",
      "metadata": {
        "id": "OO7lF0Lfo-3w"
      },
      "source": [
        "**2- VGG-19**"
      ]
    },
    {
      "cell_type": "code",
      "metadata": {
        "colab": {
          "base_uri": "https://localhost:8080/",
          "height": 1000
        },
        "id": "3HITWJ501jrI",
        "outputId": "fc4e9fc4-723e-49f7-ca07-c85cde18375b"
      },
      "source": [
        "model_VGG19,test_ds=run_model_VGG19()\n",
        "evaluate_model_testset(model_VGG19,test_ds)"
      ],
      "execution_count": null,
      "outputs": [
        {
          "output_type": "stream",
          "text": [
            "Model: \"vgg19\"\n",
            "_________________________________________________________________\n",
            "Layer (type)                 Output Shape              Param #   \n",
            "=================================================================\n",
            "input_9 (InputLayer)         [(None, 224, 224, 3)]     0         \n",
            "_________________________________________________________________\n",
            "block1_conv1 (Conv2D)        (None, 224, 224, 64)      1792      \n",
            "_________________________________________________________________\n",
            "block1_conv2 (Conv2D)        (None, 224, 224, 64)      36928     \n",
            "_________________________________________________________________\n",
            "block1_pool (MaxPooling2D)   (None, 112, 112, 64)      0         \n",
            "_________________________________________________________________\n",
            "block2_conv1 (Conv2D)        (None, 112, 112, 128)     73856     \n",
            "_________________________________________________________________\n",
            "block2_conv2 (Conv2D)        (None, 112, 112, 128)     147584    \n",
            "_________________________________________________________________\n",
            "block2_pool (MaxPooling2D)   (None, 56, 56, 128)       0         \n",
            "_________________________________________________________________\n",
            "block3_conv1 (Conv2D)        (None, 56, 56, 256)       295168    \n",
            "_________________________________________________________________\n",
            "block3_conv2 (Conv2D)        (None, 56, 56, 256)       590080    \n",
            "_________________________________________________________________\n",
            "block3_conv3 (Conv2D)        (None, 56, 56, 256)       590080    \n",
            "_________________________________________________________________\n",
            "block3_conv4 (Conv2D)        (None, 56, 56, 256)       590080    \n",
            "_________________________________________________________________\n",
            "block3_pool (MaxPooling2D)   (None, 28, 28, 256)       0         \n",
            "_________________________________________________________________\n",
            "block4_conv1 (Conv2D)        (None, 28, 28, 512)       1180160   \n",
            "_________________________________________________________________\n",
            "block4_conv2 (Conv2D)        (None, 28, 28, 512)       2359808   \n",
            "_________________________________________________________________\n",
            "block4_conv3 (Conv2D)        (None, 28, 28, 512)       2359808   \n",
            "_________________________________________________________________\n",
            "block4_conv4 (Conv2D)        (None, 28, 28, 512)       2359808   \n",
            "_________________________________________________________________\n",
            "block4_pool (MaxPooling2D)   (None, 14, 14, 512)       0         \n",
            "_________________________________________________________________\n",
            "block5_conv1 (Conv2D)        (None, 14, 14, 512)       2359808   \n",
            "_________________________________________________________________\n",
            "block5_conv2 (Conv2D)        (None, 14, 14, 512)       2359808   \n",
            "_________________________________________________________________\n",
            "block5_conv3 (Conv2D)        (None, 14, 14, 512)       2359808   \n",
            "_________________________________________________________________\n",
            "block5_conv4 (Conv2D)        (None, 14, 14, 512)       2359808   \n",
            "_________________________________________________________________\n",
            "block5_pool (MaxPooling2D)   (None, 7, 7, 512)         0         \n",
            "=================================================================\n",
            "Total params: 20,024,384\n",
            "Trainable params: 20,024,384\n",
            "Non-trainable params: 0\n",
            "_________________________________________________________________\n",
            "Layer input_9 frozen.\n",
            "Layer block1_conv1 frozen.\n",
            "Layer block1_conv2 frozen.\n",
            "Layer block1_pool frozen.\n",
            "Layer block2_conv1 frozen.\n",
            "Layer block2_conv2 frozen.\n",
            "Layer block2_pool frozen.\n",
            "Layer block3_conv1 frozen.\n",
            "Layer block3_conv2 frozen.\n",
            "Layer block3_conv3 frozen.\n",
            "Layer block3_conv4 frozen.\n",
            "Layer block3_pool frozen.\n",
            "Layer block4_conv1 frozen.\n",
            "Layer block4_conv2 frozen.\n",
            "Layer block4_conv3 frozen.\n",
            "Layer block4_conv4 frozen.\n",
            "Layer block4_pool frozen.\n",
            "Model: \"model_9\"\n",
            "_________________________________________________________________\n",
            "Layer (type)                 Output Shape              Param #   \n",
            "=================================================================\n",
            "input_9 (InputLayer)         [(None, 224, 224, 3)]     0         \n",
            "_________________________________________________________________\n",
            "block1_conv1 (Conv2D)        (None, 224, 224, 64)      1792      \n",
            "_________________________________________________________________\n",
            "block1_conv2 (Conv2D)        (None, 224, 224, 64)      36928     \n",
            "_________________________________________________________________\n",
            "block1_pool (MaxPooling2D)   (None, 112, 112, 64)      0         \n",
            "_________________________________________________________________\n",
            "block2_conv1 (Conv2D)        (None, 112, 112, 128)     73856     \n",
            "_________________________________________________________________\n",
            "block2_conv2 (Conv2D)        (None, 112, 112, 128)     147584    \n",
            "_________________________________________________________________\n",
            "block2_pool (MaxPooling2D)   (None, 56, 56, 128)       0         \n",
            "_________________________________________________________________\n",
            "block3_conv1 (Conv2D)        (None, 56, 56, 256)       295168    \n",
            "_________________________________________________________________\n",
            "block3_conv2 (Conv2D)        (None, 56, 56, 256)       590080    \n",
            "_________________________________________________________________\n",
            "block3_conv3 (Conv2D)        (None, 56, 56, 256)       590080    \n",
            "_________________________________________________________________\n",
            "block3_conv4 (Conv2D)        (None, 56, 56, 256)       590080    \n",
            "_________________________________________________________________\n",
            "block3_pool (MaxPooling2D)   (None, 28, 28, 256)       0         \n",
            "_________________________________________________________________\n",
            "block4_conv1 (Conv2D)        (None, 28, 28, 512)       1180160   \n",
            "_________________________________________________________________\n",
            "block4_conv2 (Conv2D)        (None, 28, 28, 512)       2359808   \n",
            "_________________________________________________________________\n",
            "block4_conv3 (Conv2D)        (None, 28, 28, 512)       2359808   \n",
            "_________________________________________________________________\n",
            "block4_conv4 (Conv2D)        (None, 28, 28, 512)       2359808   \n",
            "_________________________________________________________________\n",
            "block4_pool (MaxPooling2D)   (None, 14, 14, 512)       0         \n",
            "_________________________________________________________________\n",
            "block5_conv1 (Conv2D)        (None, 14, 14, 512)       2359808   \n",
            "_________________________________________________________________\n",
            "block5_conv2 (Conv2D)        (None, 14, 14, 512)       2359808   \n",
            "_________________________________________________________________\n",
            "block5_conv3 (Conv2D)        (None, 14, 14, 512)       2359808   \n",
            "_________________________________________________________________\n",
            "block5_conv4 (Conv2D)        (None, 14, 14, 512)       2359808   \n",
            "_________________________________________________________________\n",
            "block5_pool (MaxPooling2D)   (None, 7, 7, 512)         0         \n",
            "_________________________________________________________________\n",
            "flatten_10 (Flatten)         (None, 25088)             0         \n",
            "_________________________________________________________________\n",
            "fc1 (Dense)                  (None, 1000)              25089000  \n",
            "_________________________________________________________________\n",
            "dropout_9 (Dropout)          (None, 1000)              0         \n",
            "_________________________________________________________________\n",
            "predictions (Dense)          (None, 8)                 8008      \n",
            "=================================================================\n",
            "Total params: 45,121,392\n",
            "Trainable params: 34,536,240\n",
            "Non-trainable params: 10,585,152\n",
            "_________________________________________________________________\n",
            "replace /content/Fish_Data/LicenceAndAuthors.pdf? [y]es, [n]o, [A]ll, [N]one, [r]ename: A\n",
            "Found 4541 files belonging to 8 classes.\n",
            "Using 4087 files for training.\n",
            "Found 4541 files belonging to 8 classes.\n",
            "Using 454 files for validation.\n",
            "Found 4541 files belonging to 8 classes.\n",
            "Using 454 files for validation.\n",
            "Epoch 1/20\n"
          ],
          "name": "stdout"
        },
        {
          "output_type": "stream",
          "text": [
            "/usr/local/lib/python3.7/dist-packages/tensorflow/python/keras/backend.py:4930: UserWarning: \"`sparse_categorical_crossentropy` received `from_logits=True`, but the `output` argument was produced by a sigmoid or softmax activation and thus does not represent logits. Was this intended?\"\n",
            "  '\"`sparse_categorical_crossentropy` received `from_logits=True`, but '\n"
          ],
          "name": "stderr"
        },
        {
          "output_type": "stream",
          "text": [
            "128/128 [==============================] - 37s 279ms/step - loss: 4.4366 - accuracy: 0.5324 - val_loss: 0.9101 - val_accuracy: 0.7841\n",
            "Epoch 2/20\n",
            "128/128 [==============================] - 37s 284ms/step - loss: 0.6644 - accuracy: 0.8307 - val_loss: 0.5549 - val_accuracy: 0.8656\n",
            "Epoch 3/20\n",
            "128/128 [==============================] - 37s 286ms/step - loss: 0.2297 - accuracy: 0.9310 - val_loss: 0.4718 - val_accuracy: 0.9119\n",
            "Epoch 4/20\n",
            "128/128 [==============================] - 37s 283ms/step - loss: 0.1005 - accuracy: 0.9657 - val_loss: 0.4615 - val_accuracy: 0.9163\n",
            "Epoch 5/20\n",
            "128/128 [==============================] - 37s 286ms/step - loss: 0.0596 - accuracy: 0.9782 - val_loss: 0.4710 - val_accuracy: 0.9119\n",
            "Epoch 6/20\n",
            "128/128 [==============================] - 37s 286ms/step - loss: 0.0488 - accuracy: 0.9851 - val_loss: 0.4377 - val_accuracy: 0.9207\n",
            "Epoch 7/20\n",
            "128/128 [==============================] - 37s 285ms/step - loss: 0.0287 - accuracy: 0.9892 - val_loss: 0.4131 - val_accuracy: 0.9163\n",
            "Epoch 8/20\n",
            "128/128 [==============================] - 37s 285ms/step - loss: 0.0237 - accuracy: 0.9929 - val_loss: 0.4247 - val_accuracy: 0.9207\n",
            "Epoch 9/20\n",
            "128/128 [==============================] - 37s 285ms/step - loss: 0.0149 - accuracy: 0.9958 - val_loss: 0.3950 - val_accuracy: 0.9251\n",
            "Epoch 10/20\n",
            "128/128 [==============================] - 37s 286ms/step - loss: 0.0149 - accuracy: 0.9954 - val_loss: 0.4204 - val_accuracy: 0.9273\n",
            "Epoch 11/20\n",
            "128/128 [==============================] - 37s 285ms/step - loss: 0.0135 - accuracy: 0.9954 - val_loss: 0.3812 - val_accuracy: 0.9273\n",
            "Epoch 12/20\n",
            "128/128 [==============================] - 37s 285ms/step - loss: 0.0070 - accuracy: 0.9978 - val_loss: 0.4025 - val_accuracy: 0.9251\n",
            "Epoch 13/20\n",
            "128/128 [==============================] - 37s 285ms/step - loss: 0.0111 - accuracy: 0.9956 - val_loss: 0.4016 - val_accuracy: 0.9273\n",
            "Epoch 14/20\n",
            "128/128 [==============================] - 37s 285ms/step - loss: 0.0072 - accuracy: 0.9978 - val_loss: 0.3853 - val_accuracy: 0.9317\n",
            "Epoch 15/20\n",
            "128/128 [==============================] - 37s 285ms/step - loss: 0.0084 - accuracy: 0.9976 - val_loss: 0.3724 - val_accuracy: 0.9295\n",
            "Epoch 16/20\n",
            "128/128 [==============================] - 37s 285ms/step - loss: 0.0033 - accuracy: 0.9988 - val_loss: 0.3985 - val_accuracy: 0.9317\n",
            "Epoch 17/20\n",
            "128/128 [==============================] - 37s 285ms/step - loss: 0.0068 - accuracy: 0.9976 - val_loss: 0.3939 - val_accuracy: 0.9317\n",
            "Epoch 18/20\n",
            "128/128 [==============================] - 37s 284ms/step - loss: 0.0038 - accuracy: 0.9990 - val_loss: 0.3907 - val_accuracy: 0.9339\n",
            "Epoch 19/20\n",
            "128/128 [==============================] - 37s 285ms/step - loss: 0.0014 - accuracy: 0.9998 - val_loss: 0.3843 - val_accuracy: 0.9405\n",
            "Epoch 20/20\n",
            "128/128 [==============================] - 37s 285ms/step - loss: 0.0029 - accuracy: 0.9993 - val_loss: 0.3885 - val_accuracy: 0.9207\n"
          ],
          "name": "stdout"
        },
        {
          "output_type": "display_data",
          "data": {
            "image/png": "[encoded data removed]",
            "text/plain": [
              "<Figure size 432x288 with 1 Axes>"
            ]
          },
          "metadata": {
            "tags": [],
            "needs_background": "light"
          }
        },
        {
          "output_type": "display_data",
          "data": {
            "image/png": "[encoded data removed]",
            "text/plain": [
              "<Figure size 432x288 with 1 Axes>"
            ]
          },
          "metadata": {
            "tags": [],
            "needs_background": "light"
          }
        },
        {
          "output_type": "stream",
          "text": [
            "Model: \"model_9\"\n",
            "_________________________________________________________________\n",
            "Layer (type)                 Output Shape              Param #   \n",
            "=================================================================\n",
            "input_9 (InputLayer)         [(None, 224, 224, 3)]     0         \n",
            "_________________________________________________________________\n",
            "block1_conv1 (Conv2D)        (None, 224, 224, 64)      1792      \n",
            "_________________________________________________________________\n",
            "block1_conv2 (Conv2D)        (None, 224, 224, 64)      36928     \n",
            "_________________________________________________________________\n",
            "block1_pool (MaxPooling2D)   (None, 112, 112, 64)      0         \n",
            "_________________________________________________________________\n",
            "block2_conv1 (Conv2D)        (None, 112, 112, 128)     73856     \n",
            "_________________________________________________________________\n",
            "block2_conv2 (Conv2D)        (None, 112, 112, 128)     147584    \n",
            "_________________________________________________________________\n",
            "block2_pool (MaxPooling2D)   (None, 56, 56, 128)       0         \n",
            "_________________________________________________________________\n",
            "block3_conv1 (Conv2D)        (None, 56, 56, 256)       295168    \n",
            "_________________________________________________________________\n",
            "block3_conv2 (Conv2D)        (None, 56, 56, 256)       590080    \n",
            "_________________________________________________________________\n",
            "block3_conv3 (Conv2D)        (None, 56, 56, 256)       590080    \n",
            "_________________________________________________________________\n",
            "block3_conv4 (Conv2D)        (None, 56, 56, 256)       590080    \n",
            "_________________________________________________________________\n",
            "block3_pool (MaxPooling2D)   (None, 28, 28, 256)       0         \n",
            "_________________________________________________________________\n",
            "block4_conv1 (Conv2D)        (None, 28, 28, 512)       1180160   \n",
            "_________________________________________________________________\n",
            "block4_conv2 (Conv2D)        (None, 28, 28, 512)       2359808   \n",
            "_________________________________________________________________\n",
            "block4_conv3 (Conv2D)        (None, 28, 28, 512)       2359808   \n",
            "_________________________________________________________________\n",
            "block4_conv4 (Conv2D)        (None, 28, 28, 512)       2359808   \n",
            "_________________________________________________________________\n",
            "block4_pool (MaxPooling2D)   (None, 14, 14, 512)       0         \n",
            "_________________________________________________________________\n",
            "block5_conv1 (Conv2D)        (None, 14, 14, 512)       2359808   \n",
            "_________________________________________________________________\n",
            "block5_conv2 (Conv2D)        (None, 14, 14, 512)       2359808   \n",
            "_________________________________________________________________\n",
            "block5_conv3 (Conv2D)        (None, 14, 14, 512)       2359808   \n",
            "_________________________________________________________________\n",
            "block5_conv4 (Conv2D)        (None, 14, 14, 512)       2359808   \n",
            "_________________________________________________________________\n",
            "block5_pool (MaxPooling2D)   (None, 7, 7, 512)         0         \n",
            "_________________________________________________________________\n",
            "flatten_10 (Flatten)         (None, 25088)             0         \n",
            "_________________________________________________________________\n",
            "fc1 (Dense)                  (None, 1000)              25089000  \n",
            "_________________________________________________________________\n",
            "dropout_9 (Dropout)          (None, 1000)              0         \n",
            "_________________________________________________________________\n",
            "predictions (Dense)          (None, 8)                 8008      \n",
            "=================================================================\n",
            "Total params: 45,121,392\n",
            "Trainable params: 34,536,240\n",
            "Non-trainable params: 10,585,152\n",
            "_________________________________________________________________\n",
            "454/454 [==============================] - 6s 13ms/step - loss: 0.3885 - accuracy: 0.9207\n",
            "Test loss: 0.38849037885665894\n",
            "Test accuracy: 0.9207048416137695\n"
          ],
          "name": "stdout"
        }
      ]
    },
    {
      "cell_type": "markdown",
      "metadata": {
        "id": "PPoCUHbGpFkP"
      },
      "source": [
        "**3- AlexNet**"
      ]
    },
    {
      "cell_type": "code",
      "metadata": {
        "id": "0E0sn5lNEnaC",
        "collapsed": true,
        "colab": {
          "base_uri": "https://localhost:8080/",
          "height": 1000,
          "referenced_widgets": [
            "95e8dd07dd8f46fb9643381406432dbf",
            "48e9e790fd6444779beaa6d5ede1e6d1",
            "1f7138580c2342daa5f8f70891be12d9",
            "392c7111138344cbbe8308b28f95f861",
            "dfb4876977a24410bfdbb2a1b65ddad4",
            "e5905d36e7674c56bf9684a5850aa316",
            "610a1438a8834124a112481f5bb0157e",
            "5be1ade5d5c44189ad4f80c30f07e523"
          ]
        },
        "outputId": "3474a359-0beb-4ab5-b387-62be1ed2271c"
      },
      "source": [
        "AlexNet = run_model_AlexNet()"
      ],
      "execution_count": null,
      "outputs": [
        {
          "output_type": "stream",
          "text": [
            "Downloading: \"https://download.pytorch.org/models/alexnet-owt-4df8aa71.pth\" to /root/.cache/torch/hub/checkpoints/alexnet-owt-4df8aa71.pth\n"
          ],
          "name": "stderr"
        },
        {
          "output_type": "display_data",
          "data": {
            "application/vnd.jupyter.widget-view+json": {
              "model_id": "95e8dd07dd8f46fb9643381406432dbf",
              "version_minor": 0,
              "version_major": 2
            },
            "text/plain": [
              "HBox(children=(FloatProgress(value=0.0, max=244418560.0), HTML(value='')))"
            ]
          },
          "metadata": {
            "tags": []
          }
        },
        {
          "output_type": "stream",
          "text": [
            "\n",
            "Epoch 0/24\n",
            "----------\n"
          ],
          "name": "stdout"
        },
        {
          "output_type": "stream",
          "text": [
            "/usr/local/lib/python3.7/dist-packages/torch/utils/data/dataloader.py:477: UserWarning: This DataLoader will create 4 worker processes in total. Our suggested max number of worker in current system is 2, which is smaller than what this DataLoader is going to create. Please be aware that excessive worker creation might get DataLoader running slow or even freeze, lower the worker number to avoid potential slowness/freeze if necessary.\n",
            "  cpuset_checked))\n"
          ],
          "name": "stderr"
        },
        {
          "output_type": "stream",
          "text": [
            "Train Loss: 1.6440 Acc: 0.4249\n",
            "Validation Loss: 1.6078 Acc: 0.4196\n",
            "\n",
            "Epoch 1/24\n",
            "----------\n",
            "Train Loss: 1.3567 Acc: 0.5251\n",
            "Validation Loss: 1.1044 Acc: 0.5874\n",
            "\n",
            "Epoch 2/24\n",
            "----------\n",
            "Train Loss: 1.2606 Acc: 0.5489\n",
            "Validation Loss: 0.9061 Acc: 0.6923\n",
            "\n",
            "Epoch 3/24\n",
            "----------\n",
            "Train Loss: 1.0862 Acc: 0.6225\n",
            "Validation Loss: 0.8180 Acc: 0.6993\n",
            "\n",
            "Epoch 4/24\n",
            "----------\n",
            "Train Loss: 1.0069 Acc: 0.6458\n",
            "Validation Loss: 0.9003 Acc: 0.7133\n",
            "\n",
            "Epoch 5/24\n",
            "----------\n",
            "Train Loss: 1.0054 Acc: 0.6347\n",
            "Validation Loss: 0.7538 Acc: 0.7413\n",
            "\n",
            "Epoch 6/24\n",
            "----------\n",
            "Train Loss: 0.9220 Acc: 0.6771\n",
            "Validation Loss: 0.7202 Acc: 0.7692\n",
            "\n",
            "Epoch 7/24\n",
            "----------\n",
            "Train Loss: 0.6963 Acc: 0.7522\n",
            "Validation Loss: 0.4208 Acc: 0.8392\n",
            "\n",
            "Epoch 8/24\n",
            "----------\n",
            "Train Loss: 0.5556 Acc: 0.7971\n",
            "Validation Loss: 0.3530 Acc: 0.8881\n",
            "\n",
            "Epoch 9/24\n",
            "----------\n",
            "Train Loss: 0.5217 Acc: 0.8114\n",
            "Validation Loss: 0.3068 Acc: 0.9021\n",
            "\n",
            "Epoch 10/24\n",
            "----------\n",
            "Train Loss: 0.4834 Acc: 0.8319\n",
            "Validation Loss: 0.2823 Acc: 0.9091\n",
            "\n",
            "Epoch 11/24\n",
            "----------\n",
            "Train Loss: 0.4692 Acc: 0.8391\n",
            "Validation Loss: 0.2465 Acc: 0.9371\n",
            "\n",
            "Epoch 12/24\n",
            "----------\n",
            "Train Loss: 0.4665 Acc: 0.8312\n",
            "Validation Loss: 0.2254 Acc: 0.9161\n",
            "\n",
            "Epoch 13/24\n",
            "----------\n",
            "Train Loss: 0.4264 Acc: 0.8527\n",
            "Validation Loss: 0.2053 Acc: 0.9371\n",
            "\n",
            "Epoch 14/24\n",
            "----------\n",
            "Train Loss: 0.4014 Acc: 0.8592\n",
            "Validation Loss: 0.1918 Acc: 0.9510\n",
            "\n",
            "Epoch 15/24\n",
            "----------\n",
            "Train Loss: 0.3945 Acc: 0.8560\n",
            "Validation Loss: 0.1923 Acc: 0.9441\n",
            "\n",
            "Epoch 16/24\n",
            "----------\n",
            "Train Loss: 0.3929 Acc: 0.8664\n",
            "Validation Loss: 0.1910 Acc: 0.9441\n",
            "\n",
            "Epoch 17/24\n",
            "----------\n",
            "Train Loss: 0.3932 Acc: 0.8631\n",
            "Validation Loss: 0.1840 Acc: 0.9441\n",
            "\n",
            "Epoch 18/24\n",
            "----------\n",
            "Train Loss: 0.3974 Acc: 0.8657\n",
            "Validation Loss: 0.1721 Acc: 0.9510\n",
            "\n",
            "Epoch 19/24\n",
            "----------\n",
            "Train Loss: 0.3750 Acc: 0.8743\n",
            "Validation Loss: 0.1763 Acc: 0.9441\n",
            "\n",
            "Epoch 20/24\n",
            "----------\n",
            "Train Loss: 0.3728 Acc: 0.8624\n",
            "Validation Loss: 0.1747 Acc: 0.9510\n",
            "\n",
            "Epoch 21/24\n",
            "----------\n",
            "Train Loss: 0.3790 Acc: 0.8596\n",
            "Validation Loss: 0.1750 Acc: 0.9510\n",
            "\n",
            "Epoch 22/24\n",
            "----------\n",
            "Train Loss: 0.4014 Acc: 0.8567\n",
            "Validation Loss: 0.1752 Acc: 0.9510\n",
            "\n",
            "Epoch 23/24\n",
            "----------\n",
            "Train Loss: 0.3674 Acc: 0.8707\n",
            "Validation Loss: 0.1767 Acc: 0.9510\n",
            "\n",
            "Epoch 24/24\n",
            "----------\n",
            "Train Loss: 0.3619 Acc: 0.8710\n",
            "Validation Loss: 0.1764 Acc: 0.9510\n",
            "\n",
            "Training complete in 143m 50s\n",
            "Best val Acc: 0.951049\n"
          ],
          "name": "stdout"
        }
      ]
    },
    {
      "cell_type": "code",
      "metadata": {
        "collapsed": true,
        "id": "UbcVXyNuPyCz",
        "colab": {
          "base_uri": "https://localhost:8080/"
        },
        "outputId": "e99aea6b-cbc0-4c9c-cefe-c5abbd00025f"
      },
      "source": [
        "from torchvision import models\n",
        "from torchsummary import summary\n",
        "print(AlexNet)\n",
        "summary(AlexNet, (3, 224, 224))"
      ],
      "execution_count": null,
      "outputs": [
        {
          "output_type": "stream",
          "text": [
            "AlexNet(\n",
            "  (features): Sequential(\n",
            "    (0): Conv2d(3, 64, kernel_size=(11, 11), stride=(4, 4), padding=(2, 2))\n",
            "    (1): ReLU(inplace=True)\n",
            "    (2): MaxPool2d(kernel_size=3, stride=2, padding=0, dilation=1, ceil_mode=False)\n",
            "    (3): Conv2d(64, 192, kernel_size=(5, 5), stride=(1, 1), padding=(2, 2))\n",
            "    (4): ReLU(inplace=True)\n",
            "    (5): MaxPool2d(kernel_size=3, stride=2, padding=0, dilation=1, ceil_mode=False)\n",
            "    (6): Conv2d(192, 384, kernel_size=(3, 3), stride=(1, 1), padding=(1, 1))\n",
            "    (7): ReLU(inplace=True)\n",
            "    (8): Conv2d(384, 256, kernel_size=(3, 3), stride=(1, 1), padding=(1, 1))\n",
            "    (9): ReLU(inplace=True)\n",
            "    (10): Conv2d(256, 256, kernel_size=(3, 3), stride=(1, 1), padding=(1, 1))\n",
            "    (11): ReLU(inplace=True)\n",
            "    (12): MaxPool2d(kernel_size=3, stride=2, padding=0, dilation=1, ceil_mode=False)\n",
            "  )\n",
            "  (avgpool): AdaptiveAvgPool2d(output_size=(6, 6))\n",
            "  (classifier): Sequential(\n",
            "    (0): Dropout(p=0.5, inplace=False)\n",
            "    (1): Linear(in_features=9216, out_features=4096, bias=True)\n",
            "    (2): ReLU(inplace=True)\n",
            "    (3): Dropout(p=0.5, inplace=False)\n",
            "    (4): Linear(in_features=4096, out_features=4096, bias=True)\n",
            "    (5): ReLU(inplace=True)\n",
            "    (6): Linear(in_features=4096, out_features=8, bias=True)\n",
            "  )\n",
            ")\n",
            "----------------------------------------------------------------\n",
            "        Layer (type)               Output Shape         Param #\n",
            "================================================================\n",
            "            Conv2d-1           [-1, 64, 55, 55]          23,296\n",
            "              ReLU-2           [-1, 64, 55, 55]               0\n",
            "         MaxPool2d-3           [-1, 64, 27, 27]               0\n",
            "            Conv2d-4          [-1, 192, 27, 27]         307,392\n",
            "              ReLU-5          [-1, 192, 27, 27]               0\n",
            "         MaxPool2d-6          [-1, 192, 13, 13]               0\n",
            "            Conv2d-7          [-1, 384, 13, 13]         663,936\n",
            "              ReLU-8          [-1, 384, 13, 13]               0\n",
            "            Conv2d-9          [-1, 256, 13, 13]         884,992\n",
            "             ReLU-10          [-1, 256, 13, 13]               0\n",
            "           Conv2d-11          [-1, 256, 13, 13]         590,080\n",
            "             ReLU-12          [-1, 256, 13, 13]               0\n",
            "        MaxPool2d-13            [-1, 256, 6, 6]               0\n",
            "AdaptiveAvgPool2d-14            [-1, 256, 6, 6]               0\n",
            "          Dropout-15                 [-1, 9216]               0\n",
            "           Linear-16                 [-1, 4096]      37,752,832\n",
            "             ReLU-17                 [-1, 4096]               0\n",
            "          Dropout-18                 [-1, 4096]               0\n",
            "           Linear-19                 [-1, 4096]      16,781,312\n",
            "             ReLU-20                 [-1, 4096]               0\n",
            "           Linear-21                    [-1, 8]          32,776\n",
            "================================================================\n",
            "Total params: 57,036,616\n",
            "Trainable params: 57,036,616\n",
            "Non-trainable params: 0\n",
            "----------------------------------------------------------------\n",
            "Input size (MB): 0.57\n",
            "Forward/backward pass size (MB): 8.37\n",
            "Params size (MB): 217.58\n",
            "Estimated Total Size (MB): 226.52\n",
            "----------------------------------------------------------------\n"
          ],
          "name": "stdout"
        }
      ]
    },
    {
      "cell_type": "markdown",
      "metadata": {
        "id": "xXYpMYY0pJHj"
      },
      "source": [
        "**4- Our Model**"
      ]
    },
    {
      "cell_type": "code",
      "metadata": {
        "id": "hDN2E_NPvIBB",
        "colab": {
          "base_uri": "https://localhost:8080/"
        },
        "outputId": "5f5dc7cd-5c10-4261-acd2-f0eb1a6834fe"
      },
      "source": [
        "run_model()"
      ],
      "execution_count": null,
      "outputs": [
        {
          "output_type": "stream",
          "text": [
            "Found 4541 files belonging to 8 classes.\n",
            "Using 4087 files for training.\n",
            "Found 4541 files belonging to 8 classes.\n",
            "Using 454 files for validation.\n",
            "Found 4541 files belonging to 8 classes.\n",
            "Using 454 files for validation.\n",
            "Epoch 1/20\n",
            "128/128 [==============================] - 12s 85ms/step - loss: 1.2942 - accuracy: 0.5537 - val_loss: 0.9256 - val_accuracy: 0.6982\n",
            "Epoch 2/20\n",
            "128/128 [==============================] - 11s 83ms/step - loss: 0.6080 - accuracy: 0.7964 - val_loss: 0.4992 - val_accuracy: 0.8128\n",
            "Epoch 3/20\n",
            "128/128 [==============================] - 11s 82ms/step - loss: 0.3061 - accuracy: 0.9002 - val_loss: 0.3822 - val_accuracy: 0.8744\n",
            "Epoch 4/20\n",
            "128/128 [==============================] - 11s 82ms/step - loss: 0.1895 - accuracy: 0.9388 - val_loss: 0.5285 - val_accuracy: 0.8370\n",
            "Epoch 5/20\n",
            "128/128 [==============================] - 11s 82ms/step - loss: 0.1138 - accuracy: 0.9623 - val_loss: 0.4279 - val_accuracy: 0.8612\n",
            "Epoch 6/20\n",
            "128/128 [==============================] - 11s 82ms/step - loss: 0.1083 - accuracy: 0.9667 - val_loss: 0.4160 - val_accuracy: 0.8987\n",
            "Epoch 7/20\n",
            "128/128 [==============================] - 11s 82ms/step - loss: 0.0472 - accuracy: 0.9858 - val_loss: 0.4599 - val_accuracy: 0.8943\n",
            "Epoch 8/20\n",
            "128/128 [==============================] - 11s 81ms/step - loss: 0.0310 - accuracy: 0.9919 - val_loss: 0.4432 - val_accuracy: 0.8899\n",
            "Epoch 9/20\n",
            "128/128 [==============================] - 11s 81ms/step - loss: 0.0224 - accuracy: 0.9936 - val_loss: 0.4233 - val_accuracy: 0.9075\n",
            "Epoch 10/20\n",
            "128/128 [==============================] - 11s 80ms/step - loss: 0.0230 - accuracy: 0.9934 - val_loss: 0.5131 - val_accuracy: 0.8921\n",
            "Epoch 11/20\n",
            "128/128 [==============================] - 11s 81ms/step - loss: 0.0804 - accuracy: 0.9755 - val_loss: 0.4424 - val_accuracy: 0.8965\n",
            "Epoch 12/20\n",
            "128/128 [==============================] - 11s 81ms/step - loss: 0.0437 - accuracy: 0.9873 - val_loss: 0.4524 - val_accuracy: 0.8943\n",
            "Epoch 13/20\n",
            "128/128 [==============================] - 11s 81ms/step - loss: 0.0077 - accuracy: 0.9988 - val_loss: 0.3908 - val_accuracy: 0.9163\n",
            "Epoch 14/20\n",
            "128/128 [==============================] - 11s 81ms/step - loss: 0.0024 - accuracy: 0.9995 - val_loss: 0.4589 - val_accuracy: 0.9141\n",
            "Epoch 15/20\n",
            "128/128 [==============================] - 11s 80ms/step - loss: 0.0022 - accuracy: 0.9998 - val_loss: 0.3960 - val_accuracy: 0.9163\n",
            "Epoch 16/20\n",
            "128/128 [==============================] - 11s 82ms/step - loss: 7.5951e-04 - accuracy: 1.0000 - val_loss: 0.4462 - val_accuracy: 0.9163\n",
            "Epoch 17/20\n",
            "128/128 [==============================] - 11s 80ms/step - loss: 4.9104e-04 - accuracy: 1.0000 - val_loss: 0.4196 - val_accuracy: 0.9185\n",
            "Epoch 18/20\n",
            "128/128 [==============================] - 11s 81ms/step - loss: 2.7424e-04 - accuracy: 1.0000 - val_loss: 0.4430 - val_accuracy: 0.9163\n",
            "Epoch 19/20\n",
            "128/128 [==============================] - 11s 82ms/step - loss: 2.8416e-04 - accuracy: 1.0000 - val_loss: 0.4612 - val_accuracy: 0.9119\n",
            "Epoch 20/20\n",
            "114/128 [=========================>....] - ETA: 1s - loss: 1.4866e-04 - accuracy: 1.0000"
          ],
          "name": "stdout"
        }
      ]
    },
    {
      "cell_type": "markdown",
      "metadata": {
        "id": "sivYl-aspPZt"
      },
      "source": [
        "**5- Transfer Learning to our model for 9 classes**"
      ]
    },
    {
      "cell_type": "code",
      "metadata": {
        "id": "Pjqj-xR-rD8O",
        "colab": {
          "base_uri": "https://localhost:8080/",
          "height": 1000
        },
        "outputId": "13c2c3e4-0c2d-4a36-d553-4d82162227a1"
      },
      "source": [
        "TL_OurModel,test_ds=run_TL_OurModel()"
      ],
      "execution_count": null,
      "outputs": [
        {
          "output_type": "stream",
          "text": [
            "\n",
            "UNRAR 5.50 freeware      Copyright (c) 1993-2017 Alexander Roshal\n",
            "\n",
            "\n",
            "Extracting from /content/drive/MyDrive/FishKaggle/Talipia.rar\n",
            "\n",
            "Creating    /content/Fish_Image/Talipia                               OK\n",
            "Extracting  /content/Fish_Image/Talipia/''''.jpg                         \b\b\b\b  0%\b\b\b\b\b  OK \n",
            "Extracting  /content/Fish_Image/Talipia/'.jpg                            \b\b\b\b  0%\b\b\b\b\b  OK \n",
            "Extracting  /content/Fish_Image/Talipia/0c8d91f2e49bd0eda2e57b857fdd7b12.jpg     \b\b\b\b  2%\b\b\b\b\b  OK \n",
            "Extracting  /content/Fish_Image/Talipia/1200px-Tilapia_sparrmanii.jpg     \b\b\b\b  3%\b\b\b\b  4%\b\b\b\b\b  OK \n",
            "Extracting  /content/Fish_Image/Talipia/141094771-the-white-background-of-tilapia.jpg     \b\b\b\b  4%\b\b\b\b\b  OK \n",
            "Extracting  /content/Fish_Image/Talipia/14Land-For-Wildlife-Oct-2014.png     \b\b\b\b  6%\b\b\b\b\b  OK \n",
            "Extracting  /content/Fish_Image/Talipia/1520575818422.jpg                \b\b\b\b  6%\b\b\b\b\b  OK \n",
            "Extracting  /content/Fish_Image/Talipia/16339110-red-tilapia-fish-isolated-on-white-background.jpg     \b\b\b\b  6%\b\b\b\b\b  OK \n",
            "Extracting  /content/Fish_Image/Talipia/181f153f524ce474485f8d2dc377e128.jpg     \b\b\b\b  7%\b\b\b\b\b  OK \n",
            "Extracting  /content/Fish_Image/Talipia/20140620100334.jpg               \b\b\b\b  7%\b\b\b\b\b  OK \n",
            "Extracting  /content/Fish_Image/Talipia/22720057-tilapia.jpg             \b\b\b\b  7%\b\b\b\b\b  OK \n",
            "Extracting  /content/Fish_Image/Talipia/24256468-nile-tilapia-fish-on-white-background.jpg     \b\b\b\b  8%\b\b\b\b\b  OK \n",
            "Extracting  /content/Fish_Image/Talipia/2718988_oreochromisniloticus_jpeg0e0b74b342a6ef35459e38564325fe71.jpg     \b\b\b\b  8%\b\b\b\b\b  OK \n",
            "Extracting  /content/Fish_Image/Talipia/363-3635858_tilapia-fish.jpg     \b\b\b\b  9%\b\b\b\b\b  OK \n",
            "Extracting  /content/Fish_Image/Talipia/39663147-whole-round-fresh-tilapia-fish-on-white-background.jpg     \b\b\b\b 10%\b\b\b\b\b  OK \n",
            "Extracting  /content/Fish_Image/Talipia/3c6f86b876325f12f78a82ac9cdf9bc8.jpg     \b\b\b\b 10%\b\b\b\b\b  OK \n",
            "Extracting  /content/Fish_Image/Talipia/4012eaf2fb943d7a8957b53cc81571c1.jpg     \b\b\b\b 10%\b\b\b\b\b  OK \n",
            "Extracting  /content/Fish_Image/Talipia/463-4636175_nile-tilapia-oreochromis-niloticus.jpg     \b\b\b\b 11%\b\b\b\b\b  OK \n",
            "Extracting  /content/Fish_Image/Talipia/4d97fb77c5d5f2c1c6f49e161d79cd1d4ea9dfc2;.jpg     \b\b\b\b 12%\b\b\b\b\b  OK \n",
            "Extracting  /content/Fish_Image/Talipia/5431078.jpg                      \b\b\b\b 12%\b\b\b\b\b  OK \n",
            "Extracting  /content/Fish_Image/Talipia/67396d3c-59191782e49519c8418b4568.jpg     \b\b\b\b 13%\b\b\b\b\b  OK \n",
            "Extracting  /content/Fish_Image/Talipia/8507516719_14a52eaab0.jpg        \b\b\b\b 13%\b\b\b\b\b  OK \n",
            "Extracting  /content/Fish_Image/Talipia/8508625530_c7654e4c47.jpg        \b\b\b\b 13%\b\b\b\b\b  OK \n",
            "Extracting  /content/Fish_Image/Talipia/8d9a9ad11886686059cb909854a1a1f0.jpg     \b\b\b\b 14%\b\b\b\b\b  OK \n",
            "Extracting  /content/Fish_Image/Talipia/a4e3110275d532dd85111370f656a97d.jpg     \b\b\b\b 14%\b\b\b\b\b  OK \n",
            "Extracting  /content/Fish_Image/Talipia/aa.jpg                           \b\b\b\b 14%\b\b\b\b\b  OK \n",
            "Extracting  /content/Fish_Image/Talipia/big-plentiful-fat-tilapia-fish-isolated-white-background-211800787.jpg     \b\b\b\b 14%\b\b\b\b\b  OK \n",
            "Extracting  /content/Fish_Image/Talipia/big-plentiful-fat-tilapia-fish-isolated-white-background-211800787;.jpg     \b\b\b\b 14%\b\b\b\b\b  OK \n",
            "Extracting  /content/Fish_Image/Talipia/black-tilapia-fish-500x500.jpg     \b\b\b\b 15%\b\b\b\b\b  OK \n",
            "Extracting  /content/Fish_Image/Talipia/Black-Tilapia_Tukwila-ZaZu-Online-grocrery-Store-in-Germany.webp     \b\b\b\b 15%\b\b\b\b\b  OK \n",
            "Extracting  /content/Fish_Image/Talipia/blue-tilapia-fish-500x500.jpg     \b\b\b\b 15%\b\b\b\b\b  OK \n",
            "Extracting  /content/Fish_Image/Talipia/blue-tilapia.webp                \b\b\b\b 15%\b\b\b\b\b  OK \n",
            "Extracting  /content/Fish_Image/Talipia/Blue_Tilapia_(cropped).jpg       \b\b\b\b 30%\b\b\b\b\b  OK \n",
            "Extracting  /content/Fish_Image/Talipia/comdlpng6951969.jpg              \b\b\b\b 31%\b\b\b\b\b  OK \n",
            "Extracting  /content/Fish_Image/Talipia/depositphotos_170196726-stock-photo-tilapia-fish-isolate-on-white.jpg     \b\b\b\b 31%\b\b\b\b\b  OK \n",
            "Extracting  /content/Fish_Image/Talipia/depositphotos_251705976-stock-photo-catching-nile-tilapia-fish-with.jpg     \b\b\b\b 32%\b\b\b\b\b  OK \n",
            "Extracting  /content/Fish_Image/Talipia/depositphotos_34672157-stock-photo-the-tilapia-fish-oreochromis-mossambicus.jpg     \b\b\b\b 33%\b\b\b\b\b  OK \n",
            "Extracting  /content/Fish_Image/Talipia/depositphotos_88024250-stock-photo-oreochromis-mossambicus-tilapia-fish.jpg     \b\b\b\b 33%\b\b\b\b\b  OK \n",
            "Extracting  /content/Fish_Image/Talipia/F459-Blue-Tilapia-1.webp         \b\b\b\b 33%\b\b\b\b\b  OK \n",
            "Extracting  /content/Fish_Image/Talipia/F459-Blue-Tilapia-3.webp         \b\b\b\b 33%\b\b\b\b\b  OK \n",
            "Extracting  /content/Fish_Image/Talipia/F459-Blue-Tilapia-5.webp         \b\b\b\b 33%\b\b\b\b\b  OK \n",
            "Extracting  /content/Fish_Image/Talipia/F463-Mozambique-Talapia-1-570x285.jpg     \b\b\b\b 34%\b\b\b\b\b  OK \n",
            "Extracting  /content/Fish_Image/Talipia/fish_articles_Feed_Nile-tilapia-credit-orffa.webp     \b\b\b\b 34%\b\b\b\b\b  OK \n",
            "Extracting  /content/Fish_Image/Talipia/fresh-tilapia-fish-500x500.jpg     \b\b\b\b 34%\b\b\b\b\b  OK \n",
            "Extracting  /content/Fish_Image/Talipia/fresh-tilapia-fish-500x500تن.jpg     \b\b\b\b 34%\b\b\b\b\b  OK \n",
            "Extracting  /content/Fish_Image/Talipia/fresh-tilapia-fish-isolated-on-260nw-677013865.webp     \b\b\b\b 35%\b\b\b\b\b  OK \n",
            "Extracting  /content/Fish_Image/Talipia/fresh-tilapia-fish-isolated-on-260nw-684248164بي.webp     \b\b\b\b 35%\b\b\b\b\b  OK \n",
            "Extracting  /content/Fish_Image/Talipia/fresh-tilapia-fish_ae6efb03-899d-4355-a80c-718a0e3aee5d_1024x1024.jpg     \b\b\b\b 35%\b\b\b\b\b  OK \n",
            "Extracting  /content/Fish_Image/Talipia/fresh-water-tilapia-fish-500x500.jpg     \b\b\b\b 35%\b\b\b\b\b  OK \n",
            "Extracting  /content/Fish_Image/Talipia/frozen-black-tilapia-fish-whole-round-oreochromis-niloticus--606.jpg     \b\b\b\b 35%\b\b\b\b\b  OK \n",
            "Extracting  /content/Fish_Image/Talipia/frozen-black-tilapia-fish-whole-round-oreochromis-niloticus--606aaa.jpg     \b\b\b\b 35%\b\b\b\b\b  OK \n",
            "Extracting  /content/Fish_Image/Talipia/FS31ت.jpg                        \b\b\b\b 35%\b\b\b\b\b  OK \n",
            "Extracting  /content/Fish_Image/Talipia/GALLARDO-Pic-0_1000-960x618.webp     \b\b\b\b 36%\b\b\b\b\b  OK \n",
            "Extracting  /content/Fish_Image/Talipia/Healthy-control-tilapia-fish-Oreochromis-niloticus.png     \b\b\b\b 36%\b\b\b\b\b  OK \n",
            "Extracting  /content/Fish_Image/Talipia/images'.jpg                      \b\b\b\b 36%\b\b\b\b\b  OK \n",
            "Extracting  /content/Fish_Image/Talipia/images.jpg                       \b\b\b\b 36%\b\b\b\b\b  OK \n",
            "Extracting  /content/Fish_Image/Talipia/images;.jpg                      \b\b\b\b 36%\b\b\b\b\b  OK \n",
            "Extracting  /content/Fish_Image/Talipia/imagesa.jpg                      \b\b\b\b 36%\b\b\b\b\b  OK \n",
            "Extracting  /content/Fish_Image/Talipia/imagesghj.jpg                    \b\b\b\b 36%\b\b\b\b\b  OK \n",
            "Extracting  /content/Fish_Image/Talipia/imagesj.jpg                      \b\b\b\b 36%\b\b\b\b\b  OK \n",
            "Extracting  /content/Fish_Image/Talipia/imagesjj.jpg                     \b\b\b\b 36%\b\b\b\b\b  OK \n",
            "Extracting  /content/Fish_Image/Talipia/imagesن.jpg                      \b\b\b\b 36%\b\b\b\b\b  OK \n",
            "Extracting  /content/Fish_Image/Talipia/IMG_4455.jpeg                    \b\b\b\b 38%\b\b\b\b 39%\b\b\b\b 41%\b\b\b\b 42%\b\b\b\b 44%\b\b\b\b 45%\b\b\b\b 47%\b\b\b\b\b  OK \n",
            "Extracting  /content/Fish_Image/Talipia/index'.jpg                       \b\b\b\b 47%\b\b\b\b\b  OK \n",
            "Extracting  /content/Fish_Image/Talipia/index.jpg                        \b\b\b\b 47%\b\b\b\b\b  OK \n",
            "Extracting  /content/Fish_Image/Talipia/indexk.jpg                       \b\b\b\b 47%\b\b\b\b\b  OK \n",
            "Extracting  /content/Fish_Image/Talipia/indexl.jpg                       \b\b\b\b 47%\b\b\b\b\b  OK \n",
            "Extracting  /content/Fish_Image/Talipia/indexعه.jpg                      \b\b\b\b 47%\b\b\b\b\b  OK \n",
            "Extracting  /content/Fish_Image/Talipia/indexن.jpg                       \b\b\b\b 47%\b\b\b\b\b  OK \n",
            "Extracting  /content/Fish_Image/Talipia/istockphoto-1142783130-612x612.jpg     \b\b\b\b 47%\b\b\b\b\b  OK \n",
            "Extracting  /content/Fish_Image/Talipia/istockphoto-157648993-1024x1024.jpg     \b\b\b\b 49%\b\b\b\b\b  OK \n",
            "Extracting  /content/Fish_Image/Talipia/istockphoto-941733000-1024x1024.jpg     \b\b\b\b 49%\b\b\b\b\b  OK \n",
            "Extracting  /content/Fish_Image/Talipia/jjj.jpg                          \b\b\b\b 49%\b\b\b\b\b  OK \n",
            "Extracting  /content/Fish_Image/Talipia/kisscc0-tilapia-fauna-perch-fish-black-snapper-5b7136bec253c3.831870091534146238796.png     \b\b\b\b 56%\b\b\b\b\b  OK \n",
            "Extracting  /content/Fish_Image/Talipia/kl.jpg                           \b\b\b\b 56%\b\b\b\b\b  OK \n",
            "Extracting  /content/Fish_Image/Talipia/Lake-Ikapu-Tilapia-sparrmanii.jpg     \b\b\b\b 56%\b\b\b\b\b  OK \n",
            "Extracting  /content/Fish_Image/Talipia/Lake-Kyungululu-left-Tilapia-sparrmanii-right-Coptodon-rendalli.jpg     \b\b\b\b 57%\b\b\b\b\b  OK \n",
            "Extracting  /content/Fish_Image/Talipia/large.jpeg                       \b\b\b\b 58%\b\b\b\b 60%\b\b\b\b\b  OK \n",
            "Extracting  /content/Fish_Image/Talipia/large_thumbnail.jpg              \b\b\b\b 61%\b\b\b\b\b  OK \n",
            "Extracting  /content/Fish_Image/Talipia/live-organic-nile-tilapia-fish-28gift-29-500x500.jpg     \b\b\b\b 61%\b\b\b\b\b  OK \n",
            "Extracting  /content/Fish_Image/Talipia/live-tilapia-fish-500x500.jpg     \b\b\b\b 61%\b\b\b\b\b  OK \n",
            "Extracting  /content/Fish_Image/Talipia/live-tilapia-fish-500x500ن.jpg     \b\b\b\b 61%\b\b\b\b\b  OK \n",
            "Extracting  /content/Fish_Image/Talipia/MAL11-043_O._macrochir-3000+1331153032.jpg     \b\b\b\b 61%\b\b\b\b\b  OK \n",
            "Extracting  /content/Fish_Image/Talipia/marketfresh-online-black-tilapia-01_1024x.webp     \b\b\b\b 61%\b\b\b\b\b  OK \n",
            "Extracting  /content/Fish_Image/Talipia/medium.jpg                       \b\b\b\b 62%\b\b\b\b\b  OK \n",
            "Extracting  /content/Fish_Image/Talipia/mozambique-tilapia.jpg           \b\b\b\b 62%\b\b\b\b\b  OK \n",
            "Extracting  /content/Fish_Image/Talipia/newly-dl-1-25Tilapia.webp        \b\b\b\b 63%\b\b\b\b\b  OK \n",
            "Extracting  /content/Fish_Image/Talipia/nile-tilapia-fish-500x500.jpg     \b\b\b\b 63%\b\b\b\b\b  OK \n",
            "Extracting  /content/Fish_Image/Talipia/nile-tilapia-freshwater-fish-asia-nile-tilapia-freshwater-fish-asia-isolated-white-background-133324246.jpg     \b\b\b\b 63%\b\b\b\b\b  OK \n",
            "Extracting  /content/Fish_Image/Talipia/nile-tilapiatilapia-nilotica-oreochromis-niloticus-260nw-1547381792.webp     \b\b\b\b 63%\b\b\b\b\b  OK \n",
            "Extracting  /content/Fish_Image/Talipia/Nile_tilapia_Male-credit-the-earlham-insititute.webp     \b\b\b\b 64%\b\b\b\b\b  OK \n",
            "Extracting  /content/Fish_Image/Talipia/oreochromis-aureus-abb2db96-47b7-45f9-a195-5bb4ecf3e64-resize-750.jpeg     \b\b\b\b 64%\b\b\b\b\b  OK \n",
            "Extracting  /content/Fish_Image/Talipia/Oreochromis-niloticus-Nairobi.JPG     \b\b\b\b 71%\b\b\b\b\b  OK \n",
            "Extracting  /content/Fish_Image/Talipia/oreochromis-tanganicae-or-tanganyikan-tilapia-a-cichlid-fish-endemic-GM6TC6.jpg     \b\b\b\b 71%\b\b\b\b\b  OK \n",
            "Extracting  /content/Fish_Image/Talipia/pans-fish-online-seafood-black-tilapia-02_large.png     \b\b\b\b 72%\b\b\b\b\b  OK \n",
            "Extracting  /content/Fish_Image/Talipia/Photo-2-Juvenile_stunded-mossambicus-980x725.jpg     \b\b\b\b 76%\b\b\b\b\b  OK \n",
            "Extracting  /content/Fish_Image/Talipia/png-clipart-red-tilapia-brood-perch-fish-fish-animals-fauna.png     \b\b\b\b 76%\b\b\b\b\b  OK \n",
            "Extracting  /content/Fish_Image/Talipia/previewk.jpg                     \b\b\b\b 76%\b\b\b\b\b  OK \n",
            "Extracting  /content/Fish_Image/Talipia/previewl.jpg                     \b\b\b\b 76%\b\b\b\b\b  OK \n",
            "Extracting  /content/Fish_Image/Talipia/product-500x500.jpeg             \b\b\b\b 77%\b\b\b\b\b  OK \n",
            "Extracting  /content/Fish_Image/Talipia/product-jpeg-500x500.jpg         \b\b\b\b 77%\b\b\b\b\b  OK \n",
            "Extracting  /content/Fish_Image/Talipia/red-tilapia-fish-isolated-on-260nw-1256749630.webp     \b\b\b\b 77%\b\b\b\b\b  OK \n",
            "Extracting  /content/Fish_Image/Talipia/s-l400.jpg                       \b\b\b\b 77%\b\b\b\b\b  OK \n",
            "Extracting  /content/Fish_Image/Talipia/Screenshot_6.png                 \b\b\b\b 79%\b\b\b\b 80%\b\b\b\b\b  OK \n",
            "Extracting  /content/Fish_Image/Talipia/Screenshot_7.png                 \b\b\b\b 82%\b\b\b\b 83%\b\b\b\b\b  OK \n",
            "Extracting  /content/Fish_Image/Talipia/Skärmklipp-26.png                \b\b\b\b 84%\b\b\b\b\b  OK \n",
            "Extracting  /content/Fish_Image/Talipia/sparrmanii_chilingali_turner_1000x424.jpg     \b\b\b\b 85%\b\b\b\b\b  OK \n",
            "Extracting  /content/Fish_Image/Talipia/stickers-tilapia-fish.jpg.jpg     \b\b\b\b 85%\b\b\b\b\b  OK \n",
            "Extracting  /content/Fish_Image/Talipia/tilapia-500x500.jpg              \b\b\b\b 85%\b\b\b\b\b  OK \n",
            "Extracting  /content/Fish_Image/Talipia/tilapia-fish-1482295813-2650399.png     \b\b\b\b 87%\b\b\b\b\b  OK \n",
            "Extracting  /content/Fish_Image/Talipia/tilapia-fish-500x500.jpg         \b\b\b\b 87%\b\b\b\b\b  OK \n",
            "Extracting  /content/Fish_Image/Talipia/tilapia-fish-500x500ت.jpg        \b\b\b\b 87%\b\b\b\b\b  OK \n",
            "Extracting  /content/Fish_Image/Talipia/tilapia-fish-500x500خ.jpg        \b\b\b\b 87%\b\b\b\b\b  OK \n",
            "Extracting  /content/Fish_Image/Talipia/tilapia-fish-500x500م.jpg        \b\b\b\b 88%\b\b\b\b\b  OK \n",
            "Extracting  /content/Fish_Image/Talipia/tilapia-fish-500x500نم.jpg       \b\b\b\b 88%\b\b\b\b\b  OK \n",
            "Extracting  /content/Fish_Image/Talipia/tilapia-fish-freshwater-cooking-food-1210672.jpg     \b\b\b\b 90%\b\b\b\b\b  OK \n",
            "Extracting  /content/Fish_Image/Talipia/tilapia-fish-freshwater-cooking-food-1322284.jpg     \b\b\b\b 91%\b\b\b\b\b  OK \n",
            "Extracting  /content/Fish_Image/Talipia/tilapia-fish-isolated-on-white-260nw-1703511532.webp     \b\b\b\b 91%\b\b\b\b\b  OK \n",
            "Extracting  /content/Fish_Image/Talipia/tilapia-fish-isolated-on-white-260nw-1704523042.webp     \b\b\b\b 91%\b\b\b\b\b  OK \n",
            "Extracting  /content/Fish_Image/Talipia/tilapia-isolated-live-mozambique-profile-260nw-177938954.webp     \b\b\b\b 91%\b\b\b\b\b  OK \n",
            "Extracting  /content/Fish_Image/Talipia/Tilapia-main-image.jpg           \b\b\b\b 92%\b\b\b\b\b  OK \n",
            "Extracting  /content/Fish_Image/Talipia/Tilapia-main-imageggg.jpg        \b\b\b\b 92%\b\b\b\b\b  OK \n",
            "Extracting  /content/Fish_Image/Talipia/Tilapia-mariae-02.jpg            \b\b\b\b 93%\b\b\b\b\b  OK \n",
            "Extracting  /content/Fish_Image/Talipia/Tilapia-Mozambique-re.jpg        \b\b\b\b 94%\b\b\b\b\b  OK \n",
            "Extracting  /content/Fish_Image/Talipia/tilapia-product-1-e1607071318723.webp     \b\b\b\b 94%\b\b\b\b\b  OK \n",
            "Extracting  /content/Fish_Image/Talipia/tilapiafeedo.jpg                 \b\b\b\b 94%\b\b\b\b\b  OK \n",
            "Extracting  /content/Fish_Image/Talipia/tilapia_hres.png                 \b\b\b\b 95%\b\b\b\b\b  OK \n",
            "Extracting  /content/Fish_Image/Talipia/tumblr_nr1ec8jjTf1th8jn4o1_1280.jpg     \b\b\b\b 96%\b\b\b\b\b  OK \n",
            "Extracting  /content/Fish_Image/Talipia/unnamed.jpg                      \b\b\b\b 96%\b\b\b\b\b  OK \n",
            "Extracting  /content/Fish_Image/Talipia/VleiKurper_Main.jpg              \b\b\b\b 96%\b\b\b\b\b  OK \n",
            "Extracting  /content/Fish_Image/Talipia/WEB--- tilapia ---.webp          \b\b\b\b 98%\b\b\b\b\b  OK \n",
            "Extracting  /content/Fish_Image/Talipia/wharf_tilapia_3bag-1.jpg         \b\b\b\b 98%\b\b\b\b\b  OK \n",
            "Extracting  /content/Fish_Image/Talipia/wharf_tilapia_big-2.jpg          \b\b\b\b 99%\b\b\b\b\b  OK \n",
            "Extracting  /content/Fish_Image/Talipia/Whole-Large-Tilapia-Fish-box-£22.00.jpg     \b\b\b\b 99%\b\b\b\b\b  OK \n",
            "Extracting  /content/Fish_Image/Talipia/شسش.jpg                          \b\b\b\b 99%\b\b\b\b\b  OK \n",
            "Extracting  /content/Fish_Image/Talipia/ط.jpg                            \b\b\b\b 99%\b\b\b\b\b  OK \n",
            "Extracting  /content/Fish_Image/Talipia/طاتلا.jpg                        \b\b\b\b 99%\b\b\b\b\b  OK \n",
            "All OK\n",
            "Found 4659 files belonging to 9 classes.\n",
            "Using 4194 files for training.\n",
            "Found 4659 files belonging to 9 classes.\n",
            "Using 465 files for validation.\n",
            "Found 4659 files belonging to 9 classes.\n",
            "Using 465 files for validation.\n",
            "Model: \"model_6\"\n",
            "_________________________________________________________________\n",
            "Layer (type)                 Output Shape              Param #   \n",
            "=================================================================\n",
            "rescaling_input (InputLayer) [(None, 120, 120, 3)]     0         \n",
            "_________________________________________________________________\n",
            "rescaling (Rescaling)        (None, 120, 120, 3)       0         \n",
            "_________________________________________________________________\n",
            "block1_conv (Conv2D)         (None, 116, 116, 32)      2432      \n",
            "_________________________________________________________________\n",
            "block1_pool (MaxPooling2D)   (None, 58, 58, 32)        0         \n",
            "_________________________________________________________________\n",
            "block2_conv (Conv2D)         (None, 56, 56, 32)        9248      \n",
            "_________________________________________________________________\n",
            "block2_pool (MaxPooling2D)   (None, 28, 28, 32)        0         \n",
            "_________________________________________________________________\n",
            "dropout (Dropout)            (None, 28, 28, 32)        0         \n",
            "=================================================================\n",
            "Total params: 11,680\n",
            "Trainable params: 11,680\n",
            "Non-trainable params: 0\n",
            "_________________________________________________________________\n",
            "Layer rescaling_input frozen.\n",
            "Layer rescaling frozen.\n",
            "Layer block1_conv frozen.\n",
            "Layer block1_pool frozen.\n",
            "Model: \"model_7\"\n",
            "_________________________________________________________________\n",
            "Layer (type)                 Output Shape              Param #   \n",
            "=================================================================\n",
            "rescaling_input (InputLayer) [(None, 120, 120, 3)]     0         \n",
            "_________________________________________________________________\n",
            "rescaling (Rescaling)        (None, 120, 120, 3)       0         \n",
            "_________________________________________________________________\n",
            "block1_conv (Conv2D)         (None, 116, 116, 32)      2432      \n",
            "_________________________________________________________________\n",
            "block1_pool (MaxPooling2D)   (None, 58, 58, 32)        0         \n",
            "_________________________________________________________________\n",
            "block2_conv (Conv2D)         (None, 56, 56, 32)        9248      \n",
            "_________________________________________________________________\n",
            "block2_pool (MaxPooling2D)   (None, 28, 28, 32)        0         \n",
            "_________________________________________________________________\n",
            "dropout (Dropout)            (None, 28, 28, 32)        0         \n",
            "_________________________________________________________________\n",
            "flatten_8 (Flatten)          (None, 25088)             0         \n",
            "_________________________________________________________________\n",
            "fc1 (Dense)                  (None, 4096)              102764544 \n",
            "_________________________________________________________________\n",
            "fc2 (Dense)                  (None, 128)               524416    \n",
            "_________________________________________________________________\n",
            "fc3 (Dense)                  (None, 9)                 1161      \n",
            "=================================================================\n",
            "Total params: 103,301,801\n",
            "Trainable params: 103,299,369\n",
            "Non-trainable params: 2,432\n",
            "_________________________________________________________________\n",
            "Epoch 1/20\n",
            "132/132 [==============================] - 15s 109ms/step - loss: 1.4384 - accuracy: 0.5389 - val_loss: 0.9593 - val_accuracy: 0.7269\n",
            "Epoch 2/20\n",
            "132/132 [==============================] - 15s 112ms/step - loss: 0.7456 - accuracy: 0.7809 - val_loss: 0.7429 - val_accuracy: 0.7785\n",
            "Epoch 3/20\n",
            "132/132 [==============================] - 15s 111ms/step - loss: 0.5154 - accuracy: 0.8526 - val_loss: 0.5736 - val_accuracy: 0.8387\n",
            "Epoch 4/20\n",
            "132/132 [==============================] - 15s 111ms/step - loss: 0.3923 - accuracy: 0.8991 - val_loss: 0.5035 - val_accuracy: 0.8581\n",
            "Epoch 5/20\n",
            "132/132 [==============================] - 15s 111ms/step - loss: 0.3074 - accuracy: 0.9213 - val_loss: 0.4794 - val_accuracy: 0.8667\n",
            "Epoch 6/20\n",
            "132/132 [==============================] - 15s 111ms/step - loss: 0.2489 - accuracy: 0.9468 - val_loss: 0.4391 - val_accuracy: 0.8710\n",
            "Epoch 7/20\n",
            "132/132 [==============================] - 15s 110ms/step - loss: 0.2127 - accuracy: 0.9573 - val_loss: 0.4072 - val_accuracy: 0.8817\n",
            "Epoch 8/20\n",
            "132/132 [==============================] - 15s 108ms/step - loss: 0.1774 - accuracy: 0.9671 - val_loss: 0.4029 - val_accuracy: 0.8968\n",
            "Epoch 9/20\n",
            "132/132 [==============================] - 15s 110ms/step - loss: 0.1592 - accuracy: 0.9702 - val_loss: 0.3769 - val_accuracy: 0.8903\n",
            "Epoch 10/20\n",
            "132/132 [==============================] - 15s 112ms/step - loss: 0.1348 - accuracy: 0.9802 - val_loss: 0.3700 - val_accuracy: 0.8989\n",
            "Epoch 11/20\n",
            "132/132 [==============================] - 15s 111ms/step - loss: 0.1229 - accuracy: 0.9812 - val_loss: 0.3533 - val_accuracy: 0.9032\n",
            "Epoch 12/20\n",
            "132/132 [==============================] - 15s 110ms/step - loss: 0.1100 - accuracy: 0.9845 - val_loss: 0.3678 - val_accuracy: 0.8989\n",
            "Epoch 13/20\n",
            "132/132 [==============================] - 15s 112ms/step - loss: 0.0992 - accuracy: 0.9852 - val_loss: 0.3521 - val_accuracy: 0.9011\n",
            "Epoch 14/20\n",
            "132/132 [==============================] - 15s 112ms/step - loss: 0.0964 - accuracy: 0.9866 - val_loss: 0.3507 - val_accuracy: 0.8968\n",
            "Epoch 15/20\n",
            "132/132 [==============================] - 15s 111ms/step - loss: 0.0884 - accuracy: 0.9895 - val_loss: 0.3452 - val_accuracy: 0.8968\n",
            "Epoch 16/20\n",
            "132/132 [==============================] - 14s 106ms/step - loss: 0.0825 - accuracy: 0.9902 - val_loss: 0.3655 - val_accuracy: 0.8925\n",
            "Epoch 17/20\n",
            "132/132 [==============================] - 14s 106ms/step - loss: 0.0786 - accuracy: 0.9914 - val_loss: 0.3392 - val_accuracy: 0.8989\n",
            "Epoch 18/20\n",
            "132/132 [==============================] - 15s 111ms/step - loss: 0.0772 - accuracy: 0.9924 - val_loss: 0.3356 - val_accuracy: 0.9054\n",
            "Epoch 19/20\n",
            "132/132 [==============================] - 15s 113ms/step - loss: 0.0729 - accuracy: 0.9924 - val_loss: 0.3578 - val_accuracy: 0.8903\n",
            "Epoch 20/20\n",
            "132/132 [==============================] - 15s 112ms/step - loss: 0.0711 - accuracy: 0.9933 - val_loss: 0.3489 - val_accuracy: 0.9075\n"
          ],
          "name": "stdout"
        },
        {
          "output_type": "display_data",
          "data": {
            "image/png": "[encoded data removed]",
            "text/plain": [
              "<Figure size 432x288 with 1 Axes>"
            ]
          },
          "metadata": {
            "tags": [],
            "needs_background": "light"
          }
        },
        {
          "output_type": "display_data",
          "data": {
            "image/png": "[encoded data removed]",
            "text/plain": [
              "<Figure size 432x288 with 1 Axes>"
            ]
          },
          "metadata": {
            "tags": [],
            "needs_background": "light"
          }
        }
      ]
    },
    {
      "cell_type": "markdown",
      "metadata": {
        "id": "uiyxGbQRHZBE"
      },
      "source": [
        "#Testing the models"
      ]
    },
    {
      "cell_type": "markdown",
      "metadata": {
        "id": "88lmsuDeHeA9"
      },
      "source": [
        "**1- VGG-16**"
      ]
    },
    {
      "cell_type": "code",
      "metadata": {
        "id": "fH1e_GFcHvcG",
        "colab": {
          "base_uri": "https://localhost:8080/"
        },
        "outputId": "9a7c9870-d655-47d9-df01-57109ea02eba"
      },
      "source": [
        "scores = VGG16_model.evaluate(test_ds, verbose=1)\n"
      ],
      "execution_count": null,
      "outputs": [
        {
          "output_type": "stream",
          "text": [
            "454/454 [==============================] - 6s 12ms/step - loss: 0.5143 - accuracy: 0.9648\n"
          ],
          "name": "stdout"
        }
      ]
    },
    {
      "cell_type": "markdown",
      "metadata": {
        "id": "41VwhfJdHhyb"
      },
      "source": [
        "**2- VGG-19**"
      ]
    },
    {
      "cell_type": "code",
      "metadata": {
        "id": "xh22dHOGLE65",
        "colab": {
          "base_uri": "https://localhost:8080/"
        },
        "outputId": "cb8f944c-8994-4137-f63f-e2914bb5bbc7"
      },
      "source": [
        "scores = model_VGG19.evaluate(test_ds, verbose=1)\n"
      ],
      "execution_count": null,
      "outputs": [
        {
          "output_type": "stream",
          "text": [
            "454/454 [==============================] - 6s 13ms/step - loss: 0.2491 - accuracy: 0.9515\n"
          ],
          "name": "stdout"
        }
      ]
    },
    {
      "cell_type": "markdown",
      "metadata": {
        "id": "d9rysnPlHh8o"
      },
      "source": [
        "**3- Our Model**"
      ]
    },
    {
      "cell_type": "code",
      "metadata": {
        "id": "niNk056wLOQb",
        "colab": {
          "base_uri": "https://localhost:8080/"
        },
        "outputId": "cce62cc4-b510-4e9c-f1b4-94f3ed760218"
      },
      "source": [
        "scores = our_model.evaluate(test_ds, verbose=1)\n"
      ],
      "execution_count": null,
      "outputs": [
        {
          "output_type": "stream",
          "text": [
            "454/454 [==============================] - 2s 4ms/step - loss: 0.5689 - accuracy: 0.9163\n"
          ],
          "name": "stdout"
        }
      ]
    },
    {
      "cell_type": "markdown",
      "metadata": {
        "id": "OyjPbpq5HiBL"
      },
      "source": [
        "**4- Transfer Learning our model**"
      ]
    },
    {
      "cell_type": "code",
      "metadata": {
        "id": "ik7n1LmQLTJt",
        "colab": {
          "base_uri": "https://localhost:8080/"
        },
        "outputId": "dc587e98-8d33-4240-e989-d1a330a6b3ee"
      },
      "source": [
        "scores = TL_OurModel.evaluate(test_ds, verbose=1)\n"
      ],
      "execution_count": null,
      "outputs": [
        {
          "output_type": "stream",
          "text": [
            "15/15 [==============================] - 1s 37ms/step - loss: 0.3489 - accuracy: 0.9075\n"
          ],
          "name": "stdout"
        }
      ]
    }
  ]
}
